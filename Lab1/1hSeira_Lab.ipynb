{
 "cells": [
  {
   "cell_type": "markdown",
   "metadata": {},
   "source": [
    "# 1η εργαστηριακή άσκηση: Εισαγωγή στις γλωσσικές αναπαραστάσεις"
   ]
  },
  {
   "cell_type": "markdown",
   "metadata": {},
   "source": [
    "<h2><center> Περιγραφή </center></h2>"
   ]
  },
  {
   "cell_type": "markdown",
   "metadata": {},
   "source": [
    "__Σκοπός__ αυτού του μέρους της 1ης εργαστηριακής άσκησης είναι να γίνει μια εισαγωγή σε διαφορετικές γλωσσικές αναπαραστάσεις και τη χρήση τους για γλωσσικά tasks. Στο πρώτο μέρος θα εμπλουτίσουμε τον ορθογράφο που φτιάξαμε στην προπαρασκευή με character level και word level unigram γλωσσικά μοντέλα. Στο δεύτερο μέρος θα κάνουμε μια εισαγωγή στις λεξικές αναπαραστάσεις bag-of-words και word2vec και θα τις χρησιμοποιήσουμε σε ένα απλό πρόβλημα ταξινόμησης."
   ]
  },
  {
   "cell_type": "markdown",
   "metadata": {},
   "source": [
    "<h2><center> Μέρος 1: Ορθογράφος </h2></center>"
   ]
  },
  {
   "cell_type": "markdown",
   "metadata": {},
   "source": [
    "Αρχικά κατεβάζουμε το corpus που θα χρησιμοποιήσουμε. Θα ασχοληθούμε με το βιβλίο __War of the Worlds__ όπως και στην προπαρασκευή έτσι ώστε να μπορούμε να συγκρίνουμε τα αποτελέσματα πάνω στο ίδιο corpus. Με την παρακάτω εντολή, λοιπόν, το κατεβάζουμε από το project Gutenberg σε plain txt μορφή και το αποθηκεύουμε με το όνομα __War.txt__."
   ]
  },
  {
   "cell_type": "code",
   "execution_count": 1,
   "metadata": {},
   "outputs": [
    {
     "name": "stdout",
     "output_type": "stream",
     "text": [
      "--2018-11-19 23:46:17--  http://www.gutenberg.org/files/36/36-0.txt\n",
      "Resolving www.gutenberg.org (www.gutenberg.org)... 152.19.134.47, 2610:28:3090:3000:0:bad:cafe:47\n",
      "Connecting to www.gutenberg.org (www.gutenberg.org)|152.19.134.47|:80... connected.\n",
      "HTTP request sent, awaiting response... 200 OK\n",
      "Length: 366813 (358K) [text/plain]\n",
      "Saving to: ‘War.txt’\n",
      "\n",
      "War.txt             100%[===================>] 358,22K   531KB/s    in 0,7s    \n",
      "\n",
      "2018-11-19 23:46:18 (531 KB/s) - ‘War.txt’ saved [366813/366813]\n",
      "\n"
     ]
    }
   ],
   "source": [
    "! wget  -c http://www.gutenberg.org/files/36/36-0.txt -O War.txt"
   ]
  },
  {
   "cell_type": "markdown",
   "metadata": {},
   "source": [
    "### Βήμα 10: Εξαγωγή στατιστικών"
   ]
  },
  {
   "cell_type": "markdown",
   "metadata": {},
   "source": [
    "Στο βήμα αυτό θα κατασκευάσουμε 2 πηγές στατιστικών για τα γλωσσικά μας μοντέλα, μία __word/token level__ και μία __character level__."
   ]
  },
  {
   "cell_type": "markdown",
   "metadata": {},
   "source": [
    "Για το βήμα αυτό αλλά και για την συνέχεια της άσκησης θα χρειαστούμε ορισμένες συναρτήσεις που υλοποιήθηκαν στην προπαρασκευή και μας βοηθάνε στην επεξεργασία του corpus. Συγκεκριμένα έχουμε τις εξής συναρτήσεις (η περιγραφή της λειτουργίας τους βρίσκεται στην προπαρασκευή):"
   ]
  },
  {
   "cell_type": "markdown",
   "metadata": {},
   "source": [
    " __1. identity_preprocess:__ "
   ]
  },
  {
   "cell_type": "code",
   "execution_count": 2,
   "metadata": {},
   "outputs": [],
   "source": [
    "# Gets a string as input and just returns the same string.\n",
    "def identity_preprocess(string_var):\n",
    "    return string_var"
   ]
  },
  {
   "cell_type": "markdown",
   "metadata": {},
   "source": [
    " __2. read_path:__"
   ]
  },
  {
   "cell_type": "code",
   "execution_count": 3,
   "metadata": {},
   "outputs": [],
   "source": [
    "# Reads a file tokenizing each line.\n",
    "def read_path(file_path, preprocess = identity_preprocess):\n",
    "    # Initilize the list of processed lines\n",
    "    processed_lines = []\n",
    "    # Open file to read mode\n",
    "    with open(file_path, \"r\") as f:\n",
    "        for line in f:\n",
    "            # Omit spaces\n",
    "            if not line.isspace():\n",
    "                processed_lines.extend(preprocess(line))\n",
    "    return processed_lines"
   ]
  },
  {
   "cell_type": "markdown",
   "metadata": {},
   "source": [
    " __3. tokenize:__"
   ]
  },
  {
   "cell_type": "code",
   "execution_count": 4,
   "metadata": {},
   "outputs": [],
   "source": [
    "import string \n",
    "# Tokenize a sttring\n",
    "def tokenize(s):\n",
    "    # Remove possible spaces from the start or the end of the string and\n",
    "    # turn all letters lowercase.\n",
    "    s = s.strip().lower()\n",
    "    # Remove all punctuations, symbols and numbers from the string leaving\n",
    "    # only lowercase alphabetical letters.\n",
    "    s = \"\".join((char for char in s if char not in string.punctuation and not char.isdigit()))\n",
    "    # Replace new line characters with spaces\n",
    "    s = s.replace('\\n',' ')\n",
    "    # Split the string in every space resulting in a list of tokens\n",
    "    res = s.split(\" \")\n",
    "    return res"
   ]
  },
  {
   "cell_type": "markdown",
   "metadata": {},
   "source": [
    " __4. get_tokens:__"
   ]
  },
  {
   "cell_type": "code",
   "execution_count": 5,
   "metadata": {},
   "outputs": [],
   "source": [
    "# Get all separate tokens from a file.\n",
    "def get_tokens(file_path):\n",
    "    tokens = read_path(file_path, tokenize)\n",
    "    distinct_tokens = list(dict.fromkeys(tokens))\n",
    "    return distinct_tokens"
   ]
  },
  {
   "cell_type": "markdown",
   "metadata": {},
   "source": [
    " __5. get_alphabet:__"
   ]
  },
  {
   "cell_type": "code",
   "execution_count": 6,
   "metadata": {},
   "outputs": [],
   "source": [
    "# Get the alphabet of a file given its tokens.\n",
    "def get_alphabet(tokens):\n",
    "    alphabet = []\n",
    "    for token in tokens:\n",
    "        alphabet.extend(list(token))\n",
    "    alphabet = list(dict.fromkeys(alphabet))\n",
    "    return alphabet"
   ]
  },
  {
   "cell_type": "markdown",
   "metadata": {},
   "source": [
    "Τώρα, λοιπόν, που έχουμε ορίσει τις συναρτήσεις που χρειαζόμαστε από την προπαρασκευή μπορούμε να συνεχίσουμε κανονικά στο βήμα 10."
   ]
  },
  {
   "cell_type": "markdown",
   "metadata": {},
   "source": [
    "__α) token level:__ Πρέπει να εξάγουμε την πιθανότητα εμφάνισης κάθε token (λέξης) του βιβλίου και να την αποθηκεύσουμε σε ένα λεξικό με __key το token και value την πιθανότητα εμφάνισής του__. "
   ]
  },
  {
   "cell_type": "markdown",
   "metadata": {},
   "source": [
    "__Διαδικασία: __\n",
    "- Θα φτιάξουμε μία συνάρτηση η οποία θα δέχεται ως όρισμα το path του corpus και θα επιστρέφει το ζητούμενο λεξικό. Αρχικά, θα αποθηκεύει σε μία λίστα όλα τα tokens χρησιμοποιώντας την συνάρτηση get_tokens και θα αρχικοποιεί το λεξικό μας με αυτά τα tokens ως keys και με value ίσο με 0. Στη συνέχεια, για κάθε λέξη του corpus θα αυξάνουμε το αντίστοιχο value στο λεξικό μας. Έτσι αφού διαιρέσουμε και κάθε value με τον αριθμό όλων των λέξεων του βιβλίου (για να μετατραπεί σε μία πιθανότητα) θα έχουμε δημιουργήσει το ζητούμενο λεξικό."
   ]
  },
  {
   "cell_type": "code",
   "execution_count": 7,
   "metadata": {},
   "outputs": [],
   "source": [
    "def token_level(path):\n",
    "    # Keys of the dictionary are all discrete tokens.\n",
    "    keys = get_tokens(path)\n",
    "    # Initialize the dictionary with the above keys and all values equal to 0.\n",
    "    dict_token = dict.fromkeys(keys, 0)\n",
    "    # Get a list with all the words containing in the corpus.\n",
    "    words = read_path(path, tokenize)\n",
    "    # For each word increase the value of the corresponding key.\n",
    "    for word in words:\n",
    "        dict_token[word] += 1\n",
    "    # Divide each value with the total number of words to get the probability of each key.\n",
    "    dict_token = {k: v / len(words) for k, v in dict_token.items()}\n",
    "    return dict_token"
   ]
  },
  {
   "cell_type": "markdown",
   "metadata": {},
   "source": [
    "- Καλούμε την συνάρτηση που ορίσαμε παραπάνω και αποθηκεύουμε το λεξικό μας ως __dict_token__."
   ]
  },
  {
   "cell_type": "code",
   "execution_count": 8,
   "metadata": {},
   "outputs": [],
   "source": [
    "# Get the dictionary of the frequency of each token.\n",
    "dict_token = token_level(\"War.txt\")"
   ]
  },
  {
   "cell_type": "markdown",
   "metadata": {},
   "source": [
    "__β) character level:__  Εδώ πρέπει να εξάγουμε την πιθανότητα εμφάνισης κάθε χαρακτήρα του corpus και, αντίστοιχα με πριν, να την αποθηκεύσουμε σε ένα λεξικό με key τον χαρακτήρα και value την πιθανότητα εμφάνισής του."
   ]
  },
  {
   "cell_type": "markdown",
   "metadata": {},
   "source": [
    "__Διαδικασία:__ \n",
    "- Αντίστοιχα λοιπόν παραπάνω θα φτιάξουμε μία παρόμοια συνάρτηση, η οποία αυτή τη φορά θα κάνει την ίδια διαδικασία για κάθε χαρακτήρα του corpus αντί για κάθε λέξη. Εδώ θα χρησιμοποιηθεί η συνάρτηση get_alphabet η οποία θα μας δώσει τα keys του λεξικού μας. Τα values θα υπολογιστούν διατρέχοντας μία φορά όλα το βιβλίο και αυξάνοντας κάθε φορά κατά 1 το value του που αντιστοιχεί στον χαρακτήρα που συναντάμε. Τέλος, πρέπει να διαιρέσουμε με όλους τους εμφανιζόμενους χαρακτήρες."
   ]
  },
  {
   "cell_type": "code",
   "execution_count": 9,
   "metadata": {},
   "outputs": [],
   "source": [
    "def character_level(path):\n",
    "    # Keys of the dictionary are the alphabet of the corpus.\n",
    "    keys = get_alphabet(get_tokens(path))\n",
    "    # Initialize the dictionary with the above keys and all values equal to 0.\n",
    "    dict_character = dict.fromkeys(keys, 0)\n",
    "    # Get a list with all the words containing in the corpus.\n",
    "    words = read_path(path, tokenize)\n",
    "    # Counter that will keep track of all the characters in the corpus.\n",
    "    total = 0\n",
    "    # For each letter of each word increase the corresponding value.\n",
    "    for word in words:\n",
    "        for char in list(word):\n",
    "            total += 1\n",
    "            dict_character[char] += 1\n",
    "    # Divide each value with the total number of characters to get the probability of each key.\n",
    "    dict_character = {k: v / total for k, v in dict_character.items()}\n",
    "    return dict_character"
   ]
  },
  {
   "cell_type": "markdown",
   "metadata": {},
   "source": [
    "Καλούμε την συνάρτηση που ορίσαμε παραπάνω και αποθηκεύουμε το λεξικό μας ως __dict_character__."
   ]
  },
  {
   "cell_type": "code",
   "execution_count": 10,
   "metadata": {},
   "outputs": [],
   "source": [
    "dict_character = character_level(\"War.txt\")"
   ]
  },
  {
   "cell_type": "markdown",
   "metadata": {},
   "source": [
    "Ολοκληρώνοντας, λοιπόν, το βήμα 10 έχουμε δύο λεξικά που αποτελούν τις πηγές στατιστικών για τα γλωσσικά μας μοντέλα, ένα word/token level και ένα character level."
   ]
  },
  {
   "cell_type": "markdown",
   "metadata": {},
   "source": [
    "### Βήμα 11: Κατασκευή μετατροπέων FST"
   ]
  },
  {
   "cell_type": "markdown",
   "metadata": {},
   "source": [
    "Για τη δημιουργία του ορθογράφου θα χρησιμοποιήσουμε μετατροπείς βασισμένους στην απόσταση Levenshtein. Θα χρησιμοποιήσουμε 3 τύπους από edits κάθε ένα από τα οποία χαρακτηρίζεται από ένα κόστος. Έχουμε: \n",
    " - __εισαγωγές χαρακτήρων__ \n",
    " - __διαγραφές χαρακτήρων__\n",
    " - __αντικαταστάσεις χαρακτήρων__"
   ]
  },
  {
   "cell_type": "markdown",
   "metadata": {},
   "source": [
    "__α)__ Στο βήμα αυτό θα υπολογίσουμε την μέση τιμή των βαρών του word level μοντέλου που κατασκευάσαμε στο βήμα 10α, το οποίο θα αποτελεί το κόστος w των edits. Συγκεκριμένα, αφού έχουμε την πιθανότητα εμφάνισης κάθε λέξης, το βάρος της ορίζεται ως ο αρνητικός λογάριθμος της πιθανότητας εμφάνισής της, δηλαδή __w = -log(P)__. Υπολογίζοντας, λοιπόν, το βάρος κάθε λέξης και παίρνοντας την μέση τιμή όλων των βαρών έχουμε το κόστος w, το οποίο επειδή προκύπτει από το token level μοντέλο το ονομάζουμε __w_token__."
   ]
  },
  {
   "cell_type": "code",
   "execution_count": 11,
   "metadata": {},
   "outputs": [],
   "source": [
    "from math import log10\n",
    "\n",
    "# Calculate weight of each word.\n",
    "token_weights = {k:(-log10(v)) for k,v in dict_token.items()}\n",
    "# Get the mean value of weigths.\n",
    "w_token = sum(token_weights.values()) / len(token_weights.values())"
   ]
  },
  {
   "cell_type": "markdown",
   "metadata": {},
   "source": [
    "__β)__ Στο βήμα αυτό θα κατασκευάσουμε τον μετατροπέα μας με μία κατάσταση που υλοποιεί την απόσταση Levenshtein αντιστοιχίζοντας:\n",
    "- Kάθε χαρακτήρα στον εαυτό του με βάρος 0 __(no edit)__.\n",
    "- Kάθε χαρακτήρα στο <epsilon\\> (ε) με βάρος w __(deletion)__.\n",
    "- Tο <epsilon\\> σε κάθε χαρακτήρα με βάρος w __(insertion)__.\n",
    "- Kάθε χαρακτήρα σε κάθε άλλο χαρακτήρα με βάρος w __(substitution)__."
   ]
  },
  {
   "cell_type": "markdown",
   "metadata": {},
   "source": [
    "Όπως και στην προπαρασκευή θα ορίσουμε την συνάρτηση format_arc η οποία διαμορφώνει μία γραμμή του αρχείου περιγραφής του κάθε FST. Συγκεκριμένα δέχεται ως όρισμα τα __src__, __dest__, __ilabel__, __olabel__ και το __weight__ (με default τιμή το 0) και τα επιστρέφει στην κατάλληλη μορφή όπως αναφέρεται και εδώ http://www.openfst.org/twiki/bin/view/FST/FstQuickTour#CreatingFsts/."
   ]
  },
  {
   "cell_type": "code",
   "execution_count": 12,
   "metadata": {},
   "outputs": [],
   "source": [
    "def format_arc(src, dest, ilabel, olabel, weight=0):\n",
    "    return (str(src) + \" \" + str(dest) + \" \" + str(ilabel) + \" \" + str(olabel) + \" \" + str(weight))"
   ]
  },
  {
   "cell_type": "markdown",
   "metadata": {},
   "source": [
    "Ακόμη, από την στιγμή που θα κατασκευάσουμε ορισμένα FSTs θα χρειαστούμε ένα αρχείο __chars.syms__ το οποίο θα αντιστοιχίζει κάθε χαρακτήρα του αλφαβήτου με έναν αύξοντα ακέραιο αριθμό. Η διαδικασία αυτή έγινε στο βήμα 4 της προπαρασκευής και περιλαμβάνει την συνάρτηση alphabet_to_int όπως βλέπουμε και παρακάτω:"
   ]
  },
  {
   "cell_type": "code",
   "execution_count": 13,
   "metadata": {},
   "outputs": [],
   "source": [
    "def alphabet_to_int(alphabet):\n",
    "    # Open file\n",
    "    f = open(\"chars.syms\", \"w\")\n",
    "    # Match epsilon to 0\n",
    "    f.write(\"EPS\" + 7*\" \" + str(0) + '\\n')\n",
    "    num = 21\n",
    "    for character in alphabet:\n",
    "        # Match every other character to an increasing index\n",
    "        f.write(character + 7*\" \" + str(num) + '\\n')\n",
    "        num += 1\n",
    "    f.close()"
   ]
  },
  {
   "cell_type": "code",
   "execution_count": 14,
   "metadata": {},
   "outputs": [],
   "source": [
    "alphabet_to_int(get_alphabet(get_tokens(\"War.txt\")))"
   ]
  },
  {
   "cell_type": "markdown",
   "metadata": {},
   "source": [
    "Στη συνέχεια, διαμορφώνουμε το αρχείο περιγραφής του μετατροπεά μας σύμφωνα με τις παραπάνω αντιστοιχίσεις. Το αποτέλεσμα αποθηκεύεται στο αρχείο __transducer_token.fst__ (συμβολίζουμε το (ε) με \"EPS\")."
   ]
  },
  {
   "cell_type": "code",
   "execution_count": 15,
   "metadata": {},
   "outputs": [],
   "source": [
    "# Get alphabet of the corpus\n",
    "alphabet = get_alphabet(get_tokens(\"War.txt\"))\n",
    "# Open file to write mode\n",
    "f = open(\"transducer_token.fst\", \"w\")\n",
    "for letter in alphabet:\n",
    "    # no edit\n",
    "    f.write(format_arc(0, 0, letter, letter) + \"\\n\")\n",
    "    # deletion\n",
    "    f.write(format_arc(0, 0, letter, \"EPS\", w_token) + \"\\n\")\n",
    "    # insertion\n",
    "    f.write(format_arc(0, 0, \"EPS\", letter, w_token) + \"\\n\")\n",
    "for i in range(len(alphabet)):\n",
    "    for j in range(len(alphabet)):\n",
    "        if i != j:\n",
    "            # substitution\n",
    "            f.write(format_arc(0, 0, alphabet[i], alphabet[j], w_token) + \"\\n\")\n",
    "\n",
    "# Make initial state also final state\n",
    "f.write(\"0\")\n",
    "# Close file\n",
    "f.close()"
   ]
  },
  {
   "cell_type": "markdown",
   "metadata": {},
   "source": [
    "Αντίστοιχα με την προπαρασκευή τρέχουμε το παρακάτω shell command που κάνει compile τον μετατροπέα μας. Το binary αρχείο που προκύπτει με όνομα __transducer_token.fst__ είναι αυτό που θα χρησιμοποιήσουμε στις επόμενες λειτουργίες."
   ]
  },
  {
   "cell_type": "code",
   "execution_count": 16,
   "metadata": {},
   "outputs": [],
   "source": [
    "! fstcompile --isymbols=chars.syms --osymbols=chars.syms transducer_token.fst transducer_token.fst"
   ]
  },
  {
   "cell_type": "markdown",
   "metadata": {},
   "source": [
    "__γ)__ Τώρα θα επαναλάβουμε την ίδια διαδικασία χρησιμοποιώντας το unigram γλωσσικό μοντέλο του βήματος 10β. Θα υπολογίσουμε αρχικά το νέο κόστος των edit το οποίο ισούται με τη μέση τιμή των βαρών του character level μοντέλου και στη συνέχεια θα γράψουμε στο αρχείο __transducer_char.fst__ την περιγραφή του μετατροπέα που θα χρησιμοποιεί το μοντέλο αυτό."
   ]
  },
  {
   "cell_type": "code",
   "execution_count": 17,
   "metadata": {},
   "outputs": [],
   "source": [
    "# Calculate weight of each character.\n",
    "character_weigths = {k: (-log10(v)) for k,v in dict_character.items()}\n",
    "# Get the mean value of weigths.\n",
    "w_char = sum(character_weigths.values()) / len(character_weigths.values())"
   ]
  },
  {
   "cell_type": "code",
   "execution_count": 18,
   "metadata": {},
   "outputs": [],
   "source": [
    "# Open file to write mode\n",
    "f = open(\"transducer_char.fst\", \"w\")\n",
    "for letter in alphabet:\n",
    "    # no edit\n",
    "    f.write(format_arc(0, 0, letter, letter) + \"\\n\")\n",
    "    # deletion\n",
    "    f.write(format_arc(0, 0, letter, \"EPS\", w_char) + \"\\n\")\n",
    "    # insertion\n",
    "    f.write(format_arc(0, 0, \"EPS\", letter, w_char) + \"\\n\")\n",
    "for i in range(len(alphabet)):\n",
    "    for j in range(len(alphabet)):\n",
    "        if i != j:\n",
    "            # substitution\n",
    "            f.write(format_arc(0, 0, alphabet[i], alphabet[j], w_char) + \"\\n\")\n",
    "\n",
    "# Make initial state also final state\n",
    "f.write(\"0\")\n",
    "# Close file\n",
    "f.close()"
   ]
  },
  {
   "cell_type": "code",
   "execution_count": 19,
   "metadata": {},
   "outputs": [],
   "source": [
    "! fstcompile --isymbols=chars.syms --osymbols=chars.syms transducer_char.fst transducer_char.fst"
   ]
  },
  {
   "cell_type": "markdown",
   "metadata": {},
   "source": [
    "__δ)__ Αυτός είναι ένας αρκετά αφελής τρόπος για τον υπολογισμό των βαρών για κάθε edit. Αν τώρα είχαμε στη διάθεση μας ό,τι δεδομένα θέλουμε αυτό που θα κάναμε είναι ότι θα υπολογίζαμε τα βάρη με βάση το πόσο συχνά γίνεται αυτό το λάθος. Πιο συγκεκριμένα, θα υπολογίζαμε για κάθε σύμβολο του αλφαβήτου την πιθανότητα κάποιος να το διαγράψει, να το προσθέσει ή να το αντικαταστήσει με κάποιο άλλο. Στη συνέχεια, θα μετατρέπαμε αυτές τις πιθανότητες σε κόστη παίρνοντας τον αρνητικό λογάριθμο και θα είχαμε τα τελικά βάρη μας για κάθε σύμβολο στο deletion και το insertion και για κάθε δυάδα συμβόλων στο substitution. Ο υπολογισμός αυτός μπορεί να γίνει σε περίπτωση που είχουμε το ίδιο corpus αλλά με λάθη για να μπορούμε να βρούμε πολύ απλά τις μετρικές που θέλουμε."
   ]
  },
  {
   "cell_type": "markdown",
   "metadata": {},
   "source": [
    "### Βήμα 12: Κατασκευή γλωσσικών μοντέλων"
   ]
  },
  {
   "cell_type": "markdown",
   "metadata": {},
   "source": [
    "__α)__ Στο βήμα αυτό θα κατασκευάσουμε έναν αποδοχέα με μία αρχική κατάσταση που θα αποδέχεται κάθε λέξη του λεξικού όπως αυτό ορίστηκε στην προπαρασκευή του εργαστηρίου στο βήμα 3α. Τώρα, όμως, ως βάρη θα χρησιμοποιήσουμε τον αρνητικό λογάριθμο της πιθανότητας εμφάνισης κάθε λέξης __-logP(w)__. Πρέπει το κόστος αυτό να κατανεμηθεί κάπως στην λέξη έτσι ώστε όλη η λέξη συνολικά να έχει το παραπάνω κόστος. Για λόγους βελτιστοποίησης και απλότητας προφανώς συμφέρει να βάλουμε όλο το κόστος της λέξης μόνο στην πρώτη ακμή της και τις υπόλοιπες να τις θέσουμε 0. Το αρχείο περιγραφής του αποδοχέα αποθηκεύεται ως __acceptor_token.fst__."
   ]
  },
  {
   "cell_type": "code",
   "execution_count": 20,
   "metadata": {},
   "outputs": [],
   "source": [
    "# Get tokens of the corpus (our acceptor should accept only these words)\n",
    "tokens = get_tokens(\"War.txt\")\n",
    "# Open file to write mode\n",
    "f = open(\"acceptor_token.fst\", \"w\")\n",
    "s = 1\n",
    "for token in tokens:\n",
    "    cost = token_weights[token]\n",
    "    letters = list(token)\n",
    "    for i in range(0, len(letters)):\n",
    "        if i == 0:\n",
    "            # For each token make state 1 its first state\n",
    "            f.write(format_arc(1, s+1, letters[i], letters[i], cost) + \"\\n\")\n",
    "        else:\n",
    "            f.write(format_arc(s, s+1, letters[i], letters[i]) + \"\\n\")\n",
    "        s += 1\n",
    "        if i == len(letters) - 1:\n",
    "            # When reaching the end of a token go to final state 0 though an ε-transition\n",
    "            f.write(format_arc(s, 0, \"EPS\", \"EPS\") + \"\\n\")\n",
    "# Make state 0 final state\n",
    "f.write(\"0\")\n",
    "# Close the file\n",
    "f.close()"
   ]
  },
  {
   "cell_type": "code",
   "execution_count": 21,
   "metadata": {},
   "outputs": [],
   "source": [
    "! fstcompile --isymbols=chars.syms --osymbols=chars.syms acceptor_token.fst acceptor_token.fst"
   ]
  },
  {
   "cell_type": "markdown",
   "metadata": {},
   "source": [
    "__β)__ Στη συνέχεια καλούμε τις συναρτήσεις fstrmepsilon, fstdeterminize και fstminimize για να βελτιστοποιήσουμε το μοντέλο μας (η λειτουργία τους έχει αναφερθεί στην προπαρασκευή)."
   ]
  },
  {
   "cell_type": "code",
   "execution_count": 22,
   "metadata": {},
   "outputs": [],
   "source": [
    "! fstrmepsilon acceptor_token.fst acceptor_token.fst"
   ]
  },
  {
   "cell_type": "code",
   "execution_count": 23,
   "metadata": {},
   "outputs": [],
   "source": [
    "! fstdeterminize acceptor_token.fst acceptor_token.fst"
   ]
  },
  {
   "cell_type": "code",
   "execution_count": 24,
   "metadata": {},
   "outputs": [],
   "source": [
    "! fstminimize acceptor_token.fst acceptor_token.fst"
   ]
  },
  {
   "cell_type": "markdown",
   "metadata": {},
   "source": [
    "__γ)__ Τώρα θα επαναλάβουμε την ίδια διαδικασία για το character level γλωσσικό μοντέλο. Αυτό που θα αλλάξει δηλαδή είναι ότι αντί να τοποθετούμε στην πρώτη ακμή της λέξης το κόστος ολόκληρης της λέξης θα ορίζουμε για την μετάβαση σε κάθε γράμμα της λέξης το αντίστοιχο κόστος του. Σημειώνεται ότι αντίστοιχα με πριν το κόστος ενός χαρακτήρα ισούται με τον αρνητικό λογάριθμο της πιθανότητας εμφάνισής του. Το αρχείο περιγραφής του αποδοχέα αποθηκεύεται ως __acceptor_char.fst__."
   ]
  },
  {
   "cell_type": "code",
   "execution_count": 25,
   "metadata": {},
   "outputs": [],
   "source": [
    "# Get tokens of the corpus (our acceptor should accept only these words)\n",
    "tokens = get_tokens(\"War.txt\")\n",
    "# Open file to write mode\n",
    "f = open(\"acceptor_char.fst\", \"w\")\n",
    "s = 1\n",
    "for token in tokens:\n",
    "    letters = list(token)\n",
    "    for i in range(0, len(letters)):\n",
    "        if i == 0:\n",
    "            # For each token make state 1 its first state\n",
    "            f.write(format_arc(1, s+1, letters[i], letters[i], character_weigths[letters[i]]) + \"\\n\")\n",
    "        else:\n",
    "            f.write(format_arc(s, s+1, letters[i], letters[i], character_weigths[letters[i]]) + \"\\n\")\n",
    "        s += 1\n",
    "        if i == len(letters) - 1:\n",
    "            # When reaching the end of a token go to final state 0 though an ε-transition\n",
    "            f.write(format_arc(s, 0, \"EPS\", \"EPS\") + \"\\n\")\n",
    "# Make state 0 final state\n",
    "f.write(\"0\")\n",
    "# Close the file\n",
    "f.close()"
   ]
  },
  {
   "cell_type": "code",
   "execution_count": 26,
   "metadata": {},
   "outputs": [],
   "source": [
    "! fstcompile --isymbols=chars.syms --osymbols=chars.syms acceptor_char.fst acceptor_char.fst"
   ]
  },
  {
   "cell_type": "code",
   "execution_count": 27,
   "metadata": {},
   "outputs": [],
   "source": [
    "! fstrmepsilon acceptor_char.fst acceptor_char.fst"
   ]
  },
  {
   "cell_type": "code",
   "execution_count": 28,
   "metadata": {},
   "outputs": [],
   "source": [
    "! fstdeterminize acceptor_char.fst acceptor_char.fst"
   ]
  },
  {
   "cell_type": "code",
   "execution_count": 29,
   "metadata": {},
   "outputs": [],
   "source": [
    "! fstminimize acceptor_char.fst acceptor_char.fst"
   ]
  },
  {
   "cell_type": "markdown",
   "metadata": {},
   "source": [
    "### Βήμα 13: Κατασκευή ορθογράφων"
   ]
  },
  {
   "cell_type": "markdown",
   "metadata": {},
   "source": [
    "Στο βήμα αυτό θα κατασκευάσουμε δύο ορθογράφους χρησιμοποιώντας τα FST από τα παραπάνω βήματα. Η διαδικασία για κάθε έναν ορθογράφο θα είναι ίδια με αυτή που ακολουθήθηκε στο βήμα 7 της προπαρασκευής."
   ]
  },
  {
   "cell_type": "markdown",
   "metadata": {},
   "source": [
    "__α)__ Ο πρώτος ορθογράφος που θα κατασκευάσουμε θα προκύψει συνθέτοντας τον word level transducer με το word level γλωσσικό μοντέλο."
   ]
  },
  {
   "cell_type": "markdown",
   "metadata": {},
   "source": [
    "Αρχικά θα ταξινομήσουμε τις εξόδους του transducer_token και τις εισόδους του acceptor_token με την συνάρτηση __fstarcsort__."
   ]
  },
  {
   "cell_type": "code",
   "execution_count": 30,
   "metadata": {},
   "outputs": [],
   "source": [
    "! fstarcsort --sort_type=olabel transducer_token.fst transducer_token.fst\n",
    "! fstarcsort --sort_type=ilabel acceptor_token.fst acceptor_token.fst"
   ]
  },
  {
   "cell_type": "markdown",
   "metadata": {},
   "source": [
    "Στη συνέχεια συνθέτουμε τον transducer_token με τον acceptor_token με την συνάρτηση fstcompose αποθηκεύοντας τον spell checker μας στο αρχείο __spell_checker1.fst__."
   ]
  },
  {
   "cell_type": "code",
   "execution_count": 31,
   "metadata": {},
   "outputs": [],
   "source": [
    "! fstcompose transducer_token.fst acceptor_token.fst spell_checker1.fst"
   ]
  },
  {
   "cell_type": "markdown",
   "metadata": {},
   "source": [
    "__β)__ Ο δεύτερος ορθογράφος θα προκύψει συνθέτοντας τον word level tranducer με το unigram γλωσσικό μοντέλο."
   ]
  },
  {
   "cell_type": "markdown",
   "metadata": {},
   "source": [
    "Αρχικά θα ταξινομήσουμε τις εισόδους του acceptor_char με την συνάρτηση __fstarcsort__."
   ]
  },
  {
   "cell_type": "code",
   "execution_count": 32,
   "metadata": {},
   "outputs": [],
   "source": [
    "! fstarcsort --sort_type=ilabel acceptor_char.fst acceptor_char.fst"
   ]
  },
  {
   "cell_type": "markdown",
   "metadata": {},
   "source": [
    "Στη συνέχεια συνθέτουμε τον transducer_token με τον acceptor_char με την συνάρτηση fstcompose αποθηκεύοντας τον spell checker μας στο αρχείο __spell_checker2.fst__."
   ]
  },
  {
   "cell_type": "code",
   "execution_count": 33,
   "metadata": {},
   "outputs": [],
   "source": [
    "! fstcompose transducer_token.fst acceptor_char.fst spell_checker2.fst"
   ]
  },
  {
   "cell_type": "markdown",
   "metadata": {},
   "source": [
    "__γ)__ Η διαφορά των δύο ορθογράφων βρίσκεται στο γλωσσικό μοντέλο που χρησιμοποιούν. Συγκεκριμένα:\n",
    " 1. __Word-Level μοντέλο:__ Ο 1ος ορθογράφος για να διορθώσει μία λέξη κοιτάει (πέρα από τον αριθμό των edits) την συχνότητα εμφάνισης της κάθε λέξης στο corpus. Έτσι, διορθώνει μία λέξη σε μία άλλη που είναι πιο πιθανό να είχε εμφανιστεί.\n",
    " 2. __Unigram μοντέλο:__ Ο 2ος ορθογράφος για να διορθώσει μία λέξη κοιτάει (πέρα από τον αριθμό των edits) την συχνότητα εμφάνισης κάθε γράμματος της διορθωμένης λέξης. Έτσι, διορθώνει μία λέξη αλλάζοντας κάθε γράμμα της στο πιο πιθανό που ήταν να εμφανιστεί."
   ]
  },
  {
   "cell_type": "markdown",
   "metadata": {},
   "source": [
    "Για παράδειγμα έστω ότι έχουμε την λέξη __cit__ και οι δύο πιθανές λέξεις που βρίσκονται στο λεξικό μας και έχουν μόνο 1 αλλαγή είναι η __cat__ και η __cut__. Ο 1ος ορθογράφος πιθανώς να επιλέξει την cut επειδή είναι μία πιο συνιθισμένη λέξη. Από την άλλη, ο 2ο ορθογράφος μπορεί να επιλέξει την cat επειδή το γράμμα a εμφανίζεται πιο συχνά από το γράμμα u. Ένα αντίστοιχο παράδειγμα παρουσιάζεται στο τέλος του επόμενου βήματος όπου δίνουμε την λέξη qet στους δύο ορθογράφους."
   ]
  },
  {
   "cell_type": "markdown",
   "metadata": {},
   "source": [
    "### Βήμα 14: Αξιολόγηση των ορθογράφων"
   ]
  },
  {
   "cell_type": "markdown",
   "metadata": {},
   "source": [
    "__α)__ Για να κάνουμε το evaluation των δύο ορθογράφων κατεβάζουμε το παρακάτω σύνολο δεδομένων:"
   ]
  },
  {
   "cell_type": "code",
   "execution_count": 34,
   "metadata": {},
   "outputs": [
    {
     "name": "stdout",
     "output_type": "stream",
     "text": [
      "--2018-11-19 23:46:52--  https://raw.githubusercontent.com/georgepar/python-lab/master/spell_checker_test_set\n",
      "Resolving raw.githubusercontent.com (raw.githubusercontent.com)... 151.101.12.133\n",
      "Connecting to raw.githubusercontent.com (raw.githubusercontent.com)|151.101.12.133|:443... connected.\n",
      "HTTP request sent, awaiting response... 200 OK\n",
      "Length: 3780 (3,7K) [text/plain]\n",
      "Saving to: ‘spell_checker_test_set’\n",
      "\n",
      "spell_checker_test_ 100%[===================>]   3,69K  --.-KB/s    in 0s      \n",
      "\n",
      "2018-11-19 23:46:55 (46,4 MB/s) - ‘spell_checker_test_set’ saved [3780/3780]\n",
      "\n"
     ]
    }
   ],
   "source": [
    "! wget https://raw.githubusercontent.com/georgepar/python-lab/master/spell_checker_test_set"
   ]
  },
  {
   "cell_type": "markdown",
   "metadata": {},
   "source": [
    "__β)__ Δημιουργούμε αρχικά μία συνάρτηση __predict__ η οποία δέχεται μία λέξη που πρέπει να διορθωθεί και γράφει σε ένα αρχείο __pred_word.fst__ την περιγραφή ενός FST το οποίο αποδέχεται την συγκεκριμένη λέξη. Το FST αυτό θα το κάνουμε στη συνέχεια compose με τον ορθογράφο για να πάρουμε το τελικό αποτέλεσμα."
   ]
  },
  {
   "cell_type": "code",
   "execution_count": 35,
   "metadata": {},
   "outputs": [],
   "source": [
    "def predict(word):\n",
    "    s= 1\n",
    "    letters = list(word)\n",
    "    # Open file to write mode\n",
    "    f = open(\"pred_word.fst\", \"w\")\n",
    "    for i in range(0, len(letters)):\n",
    "        # For each letter of the word make a transition with zero weight\n",
    "        f.write(format_arc(s, s+1, letters[i], letters[i], 0) + '\\n')\n",
    "        s += 1\n",
    "        if i == len(letters) - 1:\n",
    "            # When reaching the end the word make a ε-transition to the final state 0 \n",
    "            f.write(format_arc(s, 0, \"EPS\",  \"EPS\", 0) + '\\n')\n",
    "    # Final state\n",
    "    f.write(\"0\")\n",
    "    # Close the file\n",
    "    f.close()"
   ]
  },
  {
   "cell_type": "markdown",
   "metadata": {},
   "source": [
    "Είμαστε έτοιμοι, λοιπόν, τώρα να αξιολογήσουμε τους δύο ορθογράφους. Θα επιλέξουμε 10 τυχαίες λέξεις από το evaluation set που κατεβάσαμε και θα τις διορθώσουμε χρησιμοποιώντας τους 2 ορθογράφους μας."
   ]
  },
  {
   "cell_type": "code",
   "execution_count": 36,
   "metadata": {},
   "outputs": [],
   "source": [
    "import random\n",
    "random.seed(1)\n",
    "test_words = []\n",
    "for _ in range(10):\n",
    "    random_lines = random.choice(open('spell_checker_test_set').readlines())\n",
    "    test_words.append(random.choice(random_lines.strip('\\n').split()[1:]))"
   ]
  },
  {
   "cell_type": "code",
   "execution_count": 37,
   "metadata": {},
   "outputs": [
    {
     "name": "stdout",
     "output_type": "stream",
     "text": [
      "experances: 1: experiences 2: experiences\n",
      "\n",
      "chosing: 1: choking 2: chasing\n",
      "\n",
      "extreamly: 1: extremely 2: extremely\n",
      "\n",
      "cirtain: 1: certain 2: certain\n",
      "\n",
      "completly: 1: completely 2: completely\n",
      "\n",
      "diffrent: 1: different 2: different\n",
      "\n",
      "aranging: 1: ringing 2: hanging\n",
      "\n",
      "contentid: 1: contents 2: contents\n",
      "\n",
      "awfall: 1: wall 2: wall\n",
      "\n",
      "defenition: 1: desertion 2: desertion\n",
      "\n"
     ]
    }
   ],
   "source": [
    "for word in test_words:\n",
    "    print(word + \":\" + \" \",end='')\n",
    "    predict(word)\n",
    "    print(\"1: \",end='')\n",
    "    ! ./predict.sh spell_checker1.fst\n",
    "    print(\" 2: \",end='')\n",
    "    ! ./predict.sh spell_checker2.fst\n",
    "    print('\\n')"
   ]
  },
  {
   "cell_type": "markdown",
   "metadata": {},
   "source": [
    "__γ)__ Παρατηρούμε ότι έχουν μία αρκετά καλή επίδοση οι δύο ορθογράφοι μας η οποία αυξάνοντας το corpus (το οποίο είναι μόνο ένα βιβλίο) θα μπορούσαν να γίνουν ακόμα καλύτεροι. Συγκεκριμένα:\n",
    "- Ο 1ος ορθογράφος κατασκευάστηκε συνθέτοντας το word-level γλωσσικό μοντέλο με το word-level μετατροπέα. Αυτό σημαίνει, ότι ο ορθογράφος προσπαθεί να διορθώσει μία λέξη όχι μόνο λαμβάνοντας υπόψιν τις λιγότερες αλλαγές (όπως στην προπαρασκευή) αλλά και το πόσο πιθανή είναι η λέξη στην οποία θα μετατραπεί. Αυτό αυξάνει την επίδοσή του γιατί προφανώς όσο πιο πιθανή είναι μία λέξη τόσο και πιο πιθανό είναι να έχει γραφτεί λάθος. Ο μετατροπέας, τώρα, έγινε word-level έτσι ώστε να φέρουμε τα βάρη των edits στην ίδια τάξη μεγέθους με τα βάρη του γλωσσικού μοντέλου.\n",
    "- Ο 2ος ορθογράφος κατασκευάστηκε συνθέτοντας το unigram γλωσσικό μοντέλο με το word-level μετατροπέα. Αυτό σημαίνει ότι ο ορθογράφος προσπαθεί να διορθώσει μία λέξη λαμβάνοντας υπόψιν αυτή τη φορά πόσο πιθανό είναι το γράμμα το οποίο θέλει να διορθώσει. Αυτό το γλωσσικό μοντέλο επίσης αυξάνει την απόδοση γιατί όσο πιο πιθανό είναι ένα γράμμα τόσο και πιο πιθανό είναι να έχει γραφτεί λάθος το συγκεκριμένο γράμμα. Τα βάρη του μετατροπέα τώρα κάνουν την ίδια δουλειά που αναφέρθηκε και παραπάνω."
   ]
  },
  {
   "cell_type": "markdown",
   "metadata": {},
   "source": [
    "Για να κατανοήσουμε καλύτερα την διαφορετική λειτουργία των 2 ορθογράφων δίνουμε ως είσοδο για διόρθωση την λέξη __qet__."
   ]
  },
  {
   "cell_type": "code",
   "execution_count": 38,
   "metadata": {},
   "outputs": [
    {
     "name": "stdout",
     "output_type": "stream",
     "text": [
      "qet: 1: get 2: set"
     ]
    }
   ],
   "source": [
    "word = \"qet\"\n",
    "print(word + \":\" + \" \",end='')\n",
    "predict(word)\n",
    "print(\"1: \",end='')\n",
    "! ./predict.sh spell_checker1.fst\n",
    "print(\" 2: \",end='')\n",
    "! ./predict.sh spell_checker2.fst"
   ]
  },
  {
   "cell_type": "markdown",
   "metadata": {},
   "source": [
    "Παρατηρούμε ότι ο ορθογράφος με το word level γλωσσικό μοντέλο την διόρθωσε σε __get__, ενώ ο ορθογράφος με το unigram γλωσσικό μοντέλο την διόρθωσε σε __set__. Ο λόγος που συνέβη αυτό βρίσκεται στις πιθανότητες εμφάνισης κάθε λέξης αλλά και του συνολικού συνδυασμού των γραμμάτων κάθε λέξης."
   ]
  },
  {
   "cell_type": "code",
   "execution_count": 39,
   "metadata": {},
   "outputs": [
    {
     "name": "stdout",
     "output_type": "stream",
     "text": [
      "Propability of word get: 0.0006171960309547548\n",
      "Propability of word set: 0.0004272895598917533\n",
      "Propability of characters g: 0.024068933651712938\n",
      "Propability of characters s: 0.05982315118210772\n"
     ]
    }
   ],
   "source": [
    "print(\"Propability of word get: \" + str(dict_token[\"get\"]))\n",
    "print(\"Propability of word set: \" + str(dict_token[\"set\"]))\n",
    "print(\"Propability of characters g: \" + str(dict_character[\"g\"]))\n",
    "print(\"Propability of characters s: \" + str(dict_character[\"s\"]))"
   ]
  },
  {
   "cell_type": "markdown",
   "metadata": {},
   "source": [
    "Βλέπουμε ότι η πιθανότητα να δούμε get είναι μεγαλύτερη από το να δούμε set και γι´ αυτό ο word-level ορθογράφος μας που κοιτάει τα word-level βάρη επέλεξε να διορθώσει το qet σε get. Από την άλλη η πιθανότητα να δούμε s είναι μεγαλύτερη από το να δούμε g με αποτέλεσμα ο 2ος ορθογράφος που βασίζεται στις πιθανότητες εμφάνισης των γραμάτων διορθώνει την λέξη qet σε set."
   ]
  },
  {
   "cell_type": "markdown",
   "metadata": {},
   "source": [
    "<h2><center> Μέρος 2: Χρήση σημασιολογικών αναπαραστάσεων για ανάλυση συναισθήματος</center></h2>"
   ]
  },
  {
   "cell_type": "markdown",
   "metadata": {},
   "source": [
    "Στο πρώτο μέρος της άσκησης ασχοληθήκαμε κυρίως με συντακτικά μοντέλα για την κατασκευή ενός ορθογράφου. Εδώ θα \n",
    "ασχοληθούμε με τη __χρήση λεξικών αναπαραστάσεων για την κατασκευή ενός ταξινομητή συναισθήματος__ . Ως δεδομένα θα \n",
    "χρησιμοποιήσουμε σχόλια για ταινίες από την ιστοσελίδα IMDB και θα τα ταξινομήσουμε σε θετικά και αρνητικά ως \n",
    "προς το συναίσθημα."
   ]
  },
  {
   "cell_type": "markdown",
   "metadata": {},
   "source": [
    "### Βήμα 16: Δεδομένα και προεπεξεργασία "
   ]
  },
  {
   "cell_type": "markdown",
   "metadata": {},
   "source": [
    "__α)__ Αρχικά κατεβάζουμε τα δεδομένα που θα χρησιμοποιήσουμε. Επειδή το αρχείο είναι μεγάλο η εντολή είναι σε σχόλιο σε περίπτωση που υπάρχει ήδη κατεβασμένο."
   ]
  },
  {
   "cell_type": "code",
   "execution_count": 40,
   "metadata": {},
   "outputs": [],
   "source": [
    "# ! wget -N http://ai.stanford.edu/~amaas/data/sentiment/aclImdb_v1.tar.gz"
   ]
  },
  {
   "cell_type": "markdown",
   "metadata": {},
   "source": [
    "Στη συνέχεια το αποσυμπιέζουμε το αρχείου που κατεβάσαμε στον ίδιο φάκελο με το όνομα __aclImdb__."
   ]
  },
  {
   "cell_type": "code",
   "execution_count": 41,
   "metadata": {},
   "outputs": [],
   "source": [
    "# ! tar -zxf aclImdb_v1.tar.gz"
   ]
  },
  {
   "cell_type": "markdown",
   "metadata": {},
   "source": [
    "Οι φάκελοι που μας ενδιαφέρουν είναι οι εξής:\n",
    " - __train__ που περιέχει όλες τις κριτικές που θα χρησιμοπιήσουμε για την εκπαίδευση του μοντέλου μας και χωρίζεται σε:\n",
    "     - __train/pos__ το οποίο περιέχει αυτές που έχουν χαρακτηριστεί ως θετικές και\n",
    "     - __train/neg__ το οποίο περιέχει αυτές που έχουν χαρακτηριστεί ως αρνητικές.\n",
    " - __test__ που περιέχει όλες τις κριτικές που θα χρησιμοποιήσουμε για να ελέγξουμε την επίδοση του μοντέλου μας και αντίστοιχα χωρίζεται σε:\n",
    "     - __test/pos__ με τις θετικές και \n",
    "     - __test/neg__ με τις αρνητικές."
   ]
  },
  {
   "cell_type": "markdown",
   "metadata": {},
   "source": [
    "__β)__ Στη συνέχεια πρέπει να διαβάσουμε και να προεπεξεργαστούμε τα δεδομένα μας. Ο κώδικας ανάγνωσης και κάποιες απλές συναρτήσεις προεπεξεργασίας (τα οποία μας δώθηκαν έτοιμα για διευκόλυνση) παρουσιάζονται παρακάτω."
   ]
  },
  {
   "cell_type": "markdown",
   "metadata": {},
   "source": [
    "- Αρχικά κάνουμε όλα τα απαραίτητα import."
   ]
  },
  {
   "cell_type": "code",
   "execution_count": 42,
   "metadata": {},
   "outputs": [],
   "source": [
    "import random\n",
    "import os\n",
    "import numpy as np\n",
    "import re\n",
    "try:\n",
    "    import glob2 as glob\n",
    "except ImportError:\n",
    "    import glob"
   ]
  },
  {
   "cell_type": "markdown",
   "metadata": {},
   "source": [
    "- Στη συνέχεια δηλώνουμε τα path των αρχείων που θα μας φανούνε χρήσιμα και κάποιες ακόμη μεταβλητές."
   ]
  },
  {
   "cell_type": "code",
   "execution_count": 43,
   "metadata": {},
   "outputs": [],
   "source": [
    "# Useful paths\n",
    "data_dir = './aclImdb/'\n",
    "train_dir = os.path.join(data_dir, 'train')\n",
    "test_dir = os.path.join(data_dir, 'test')\n",
    "pos_train_dir = os.path.join(train_dir, 'pos')\n",
    "neg_train_dir = os.path.join(train_dir, 'neg')\n",
    "pos_test_dir = os.path.join(test_dir, 'pos')\n",
    "neg_test_dir = os.path.join(test_dir, 'neg')\n",
    "\n",
    "# For memory limitations. These parameters fit in 8GB of RAM.\n",
    "# If you have 16G of RAM you can experiment with the full dataset / W2V\n",
    "MAX_NUM_SAMPLES = 5000\n",
    "# Load first 1M word embeddings. This works because GoogleNews are roughly\n",
    "# sorted from most frequent to least frequent.\n",
    "# It may yield much worse results for other embeddings corpora\n",
    "NUM_W2V_TO_LOAD = 1000000\n",
    "# Fix numpy random seed for reproducibility\n",
    "SEED = 42\n",
    "np.random.seed(42)"
   ]
  },
  {
   "cell_type": "markdown",
   "metadata": {},
   "source": [
    "- Η συνάρτηση __strip_punctuation__ δέχεται ως είσοδο ένα string και αντικαθιστά κάθε σύμβολό του που δεν είναι γράμμα με το κενό. Έτσι επιστρέφει ένα string που αποτελείται μόνο από κεφαλαία και μικρά γράμματα και κενά."
   ]
  },
  {
   "cell_type": "code",
   "execution_count": 44,
   "metadata": {},
   "outputs": [],
   "source": [
    "def strip_punctuation(s):\n",
    "    return re.sub(r'[^a-zA-Z\\s]', ' ', s)"
   ]
  },
  {
   "cell_type": "markdown",
   "metadata": {},
   "source": [
    "- Η συνάρτηση __preprocess__ δέχεται ένα string και απαλείφει τα σημεία στίξης χρησιμοποιώντας την strip_punctuation, μετατρέπει όλα τα γράμματα σε μικρά και, τέλος, αντικαθιστά τα συνεχόμενα κενά από ένα μόνο κενό."
   ]
  },
  {
   "cell_type": "code",
   "execution_count": 45,
   "metadata": {},
   "outputs": [],
   "source": [
    "def preprocess(s):\n",
    "    return re.sub('\\s+',' ', strip_punctuation(s).lower())"
   ]
  },
  {
   "cell_type": "markdown",
   "metadata": {},
   "source": [
    "- Η συνάρτηση __tokenize__ δέχεται ένα string και το διασπάσει στα κενά του, επιστρέφοντας μία λίστα με κάθε λέξη του string."
   ]
  },
  {
   "cell_type": "code",
   "execution_count": 46,
   "metadata": {},
   "outputs": [],
   "source": [
    "def tokenize(s):\n",
    "    return s.split(' ')"
   ]
  },
  {
   "cell_type": "markdown",
   "metadata": {},
   "source": [
    "- Η συνάρτηση __preproc_tok__ δέχεται ένα string και επιστρέφει μία λίστα με τα tokens, τις λέξεις δηλαδή μόνο με μικρά γράμματα και χωρίς σημεία στίξης."
   ]
  },
  {
   "cell_type": "code",
   "execution_count": 47,
   "metadata": {},
   "outputs": [],
   "source": [
    "def preproc_tok(s):\n",
    "    return tokenize(preprocess(s))"
   ]
  },
  {
   "cell_type": "markdown",
   "metadata": {},
   "source": [
    "- Η συνάρτηση __read_samples__ δέχεται ως ορίσματα το path ενός φακέλου που περιέχει τα samples και μία συνάρτηση preprocess (με default μία συνάρτηση που επιστρέφει ακριβώς όπως είναι το όρισμά της). Ανοίγει κάθε ένα από τα samples που είναι σε μορφή αρχείων .txt και καλεί την συνάρτηση preprocess. Το αποτέλεσμα __data__ είναι μία λίστα, όπου κάθε στοιχείο της αντιστοιχεί στο αποτέλεσμα της preprocess πάνω στην κάθε κριτική."
   ]
  },
  {
   "cell_type": "code",
   "execution_count": 48,
   "metadata": {},
   "outputs": [],
   "source": [
    "def read_samples(folder, preprocess=lambda x: x):\n",
    "    # Get all the .txt files that the folder contains\n",
    "    samples = glob.iglob(os.path.join(folder, '*.txt'))\n",
    "    data = []\n",
    "    for i, sample in enumerate(samples):\n",
    "        if MAX_NUM_SAMPLES > 0 and i == MAX_NUM_SAMPLES:\n",
    "            break\n",
    "        # Open the .txt file, preprocess each line and add the result to a list\n",
    "        with open(sample, 'r') as fd:\n",
    "            x = [preprocess(l) for l in fd][0]\n",
    "            data.append(x)\n",
    "    return data"
   ]
  },
  {
   "cell_type": "markdown",
   "metadata": {},
   "source": [
    "- Η συνάρτηση __create_corpus__ δέχεται δύο λίστες που περιέχουν κριτικές για ταινίες με την πρώτη να έχει τις θετικές κριτικές και την δεύτερη τις αρνητικές. Επιστρέφει μία λίστα που περιέχει τις δωσμένες κριτικές σε τυχαία σειρά και μία λίστα που περιέχει το label της κάθε κριτικής. Ουσιαστικά αυτή η συνάρτηση δημιουργεί το training και το test set μας σε raw μορφή αφού η κάθε γραμμή είναι μία κριτική σε μορφή ενός string."
   ]
  },
  {
   "cell_type": "code",
   "execution_count": 49,
   "metadata": {},
   "outputs": [],
   "source": [
    "def create_corpus(pos, neg):\n",
    "    corpus = np.array(pos + neg)\n",
    "    y = np.array([1 for _ in pos] + [0 for _ in neg])\n",
    "    indices = np.arange(y.shape[0])\n",
    "    np.random.shuffle(indices)\n",
    "    return list(corpus), list(y)"
   ]
  },
  {
   "cell_type": "markdown",
   "metadata": {},
   "source": [
    "Αφού ορίσαμε, λοιπόν, όλες μας τις συναρτήσεις τώρα πρέπει να διαβάσουμε τις κριτικές και την αντίστοιχη κατηγορία τους. Αυτό που θα κάνουμε είναι να δημιουργήσουμε τις εξής τέσσερις λίστες:\n",
    " - __X_train_raw__ η οποία περιέχει όλες τις κριτικές που θα χρησιμοποιηθούν για το train του μοντέλου μας σε text μορφή.\n",
    " - __Y_train__ η οποία περιέχει τα labels των παραπάνω κριτικών.\n",
    " - __X_test_raw__ η οποία περιέχει όλες τις κριτικές που θα χρησιμοποιηθούν για το test του μοντέλου μας σε text μορφή.\n",
    " - __Y_test__ η οποία περιέχει τα labels των παραπάνω κριτικών."
   ]
  },
  {
   "cell_type": "code",
   "execution_count": 50,
   "metadata": {},
   "outputs": [],
   "source": [
    "X_train_raw, Y_train = create_corpus(read_samples(pos_train_dir), read_samples(neg_train_dir))\n",
    "X_test_raw, Y_test = create_corpus(read_samples(pos_test_dir), read_samples(neg_test_dir))"
   ]
  },
  {
   "cell_type": "markdown",
   "metadata": {},
   "source": [
    "Μπορούμε να ελέγξουμε την 1η κριτική του training set και το αντιστοιχο label της για να δούμε ότι όλα πήγαν καλά."
   ]
  },
  {
   "cell_type": "code",
   "execution_count": 51,
   "metadata": {},
   "outputs": [
    {
     "name": "stdout",
     "output_type": "stream",
     "text": [
      "Things to Come is an early Sci-Fi film that shows an imagined world, or \"Everytown\" through 100 years. You can break it up into about 4 different scenes or parts. The film spans from 1940 to 2036 and is mainly about how this ruler or the \"Boss\" wanted to get the capability to fly in airplanes again, after Everytown was bombed and war broke out.<br /><br />This film only has about 3 faults: it's audio is muddy and video had some quirks, the characters aren't deep at all, and the overall plot isn't altogether solid. The plot is lacking something that I can't put my finger on... it just seems a little \"fluffy.\" But if you love sci-fi and are interested in what H.G. Wells though might happened in the next hundred years, this is a must see. It's worth seeing just to learn of what everyone was fearing: a long, drawn-out war, because they were just about to go to war with Germany, and there was a threat of biological weapons and everything.<br /><br />Things to Come is a pretty good movie that most people need to see once.\n",
      "Postive\n"
     ]
    }
   ],
   "source": [
    "print(X_train_raw[0])\n",
    "print(\"Postive\" if Y_train[0] else \"Negative\")"
   ]
  },
  {
   "cell_type": "markdown",
   "metadata": {},
   "source": [
    "### Βήμα 17: Κατασκευή BOW αναπαραστάσεων και ταξινόμηση"
   ]
  },
  {
   "cell_type": "markdown",
   "metadata": {},
   "source": [
    "Η πιο βασική αναπαράσταση για μια πρόταση είναι η χρήση __Bag of Words__. Σε αυτή την αναπαράσταση μια λέξη κωδικοποιείται σαν ένα one hot encoding πάνω στο λεξιλόγιο και μια πρόταση σαν το άθροισμα αυτών των encodings. Για παράδειγμα στο λεξιλόγιο [cat, dog, eat] η αναπαράσταση της λέξης cat είναι [1, 0,0], της λέξης dog [0, 1, 0] κοκ. Η αναπαράσταση της πρότασης dog eat dog είναι [0, 2, 1]. Επιπλέον μπορούμε να πάρουμε σταθμισμένο άθροισμα των one hot word encodings για την αναπαράσταση μιας πρότασης με βάρη TF-IDF (https://en.wikipedia.org/wiki/Tf–idf)."
   ]
  },
  {
   "cell_type": "markdown",
   "metadata": {},
   "source": [
    "__α)__  Στην __Bag of Words__ αναπαράσταση υπολογίζουμε απλά πόσες φορές υπάρχει η κάθε λέξη στην κάθε κριτική. Έτσι, προκύπτει για κάθε κριτική ένας μεγάλος και αραιός πίνακας (με μήκος ίσο με το μέγεθος του λεξικου) που σε κάθε θέση του έχει τις φορές που παρουσιάζεται η κάθε λέξη στην κριτική. Αυτή η αναπαράσταση έχει δύο σημαντικά μειονεκτήματα τα οποία αντιμετωπίζονται με την προσθήκη βαρών __TF_IDF__. Συγκεκριμένα έχουμε ότι:\n",
    "- Πρέπει να λαμβάνουμε υπόψιν και το μέγεθος της κάθε κριτικής γιατί άλλη βαρύτητα έχει η ύπαρξη μιας λέξης σε μία κριτική με μικρό μέγεθος και άλλη σε μία με μεγάλο. Γι' αυτό και στον πρώτο όρο της TF_IDF που είναι το __term frequency__ αφού υπολογίσουμε πόσες φορές υπάρχει μία λέξη στην κριτική, μετά διαιρούμε με τον συνολικό μέγεθος της κριτικής.\n",
    "- Λέξεις οι οποίες είναι συνηθισμένες λαμβάνουν μεγάλο score σε κάθε κριτική χωρίς να πρέπει. Το νόημα είναι ότι οι σπάνιες λέξεις μας δίνουν περισσότερη πληροφορία από τις συνηθισμένες. Έτσι, ο δεύτερος όρος που είναι το __inverse document frequency__ είναι ο συνολικός αριθμός των κριτικών διαιρεμένος από τον αριθμό των κριτικών στις οποίες βρίσκεται η λέξη μας, με αποτέλεσμα ο όρος αυτός να αυξάνεται όσο πιο σπάνια είναι η λέξη."
   ]
  },
  {
   "cell_type": "markdown",
   "metadata": {},
   "source": [
    "__β)__  Τώρα θα χρησιμοποιήσουμε τον transformer CountVectorizer του sklearn για να εξάγουμε __μη σταθμισμένες BOW αναπαραστάσεις__."
   ]
  },
  {
   "cell_type": "code",
   "execution_count": 52,
   "metadata": {},
   "outputs": [],
   "source": [
    "from sklearn.feature_extraction.text import CountVectorizer\n",
    "# Define the vectorizer using our preprocess and tokenize function.\n",
    "vectorizer = CountVectorizer(analyzer = preproc_tok)\n",
    "# Get training data X_train.\n",
    "X_train = vectorizer.fit_transform(X_train_raw)\n",
    "# Get test data X_test.\n",
    "X_test = vectorizer.transform(X_test_raw)"
   ]
  },
  {
   "cell_type": "markdown",
   "metadata": {},
   "source": [
    "__γ)__ Σε αυτό το στάδιο έχουμε τους πίνακες με τα training και τα test data και τα αντίστοιχα labels. Οπότε μπορούμε να εφαρμόσουμε τον ταξινομητή Linear Regression του sklearn για να ταξινομήσουμε τα σχόλια σε θετικά και αρνητικά."
   ]
  },
  {
   "cell_type": "code",
   "execution_count": 53,
   "metadata": {},
   "outputs": [
    {
     "data": {
      "text/plain": [
       "LogisticRegression(C=1.0, class_weight=None, dual=False, fit_intercept=True,\n",
       "          intercept_scaling=1, max_iter=100, multi_class='ovr', n_jobs=1,\n",
       "          penalty='l2', random_state=None, solver='liblinear', tol=0.0001,\n",
       "          verbose=0, warm_start=False)"
      ]
     },
     "execution_count": 53,
     "metadata": {},
     "output_type": "execute_result"
    }
   ],
   "source": [
    "from sklearn.linear_model import LogisticRegression\n",
    "from sklearn.metrics import zero_one_loss\n",
    "\n",
    "# Define the clasifier\n",
    "clf = LogisticRegression()\n",
    "# Train the model\n",
    "clf.fit(X_train, Y_train)"
   ]
  },
  {
   "cell_type": "code",
   "execution_count": 54,
   "metadata": {},
   "outputs": [
    {
     "name": "stdout",
     "output_type": "stream",
     "text": [
      "Training error = 0.00019999999999997797\n",
      "Test error = 0.14090000000000003\n"
     ]
    }
   ],
   "source": [
    "# Compute error on training data.\n",
    "print(\"Training error =\", zero_one_loss(Y_train, clf.predict(X_train)))\n",
    "# Compute error on test data\n",
    "print(\"Test error =\", zero_one_loss(Y_test, clf.predict(X_test)))"
   ]
  },
  {
   "cell_type": "markdown",
   "metadata": {},
   "source": [
    "__δ)__ Τώρα θα επαναλάβουμε την ίδια διαδικασία χρησιμοποιώντας τον TfidfVectorizer για την εξαγώγη TF-IDF αναπαραστάσεων."
   ]
  },
  {
   "cell_type": "code",
   "execution_count": 55,
   "metadata": {},
   "outputs": [],
   "source": [
    "from sklearn.feature_extraction.text import TfidfVectorizer\n",
    "\n",
    "tfidf_vectorizer = TfidfVectorizer(analyzer = preproc_tok)\n",
    "X_train = tfidf_vectorizer.fit_transform(X_train_raw)\n",
    "X_test = tfidf_vectorizer.transform(X_test_raw)"
   ]
  },
  {
   "cell_type": "code",
   "execution_count": 56,
   "metadata": {},
   "outputs": [
    {
     "name": "stdout",
     "output_type": "stream",
     "text": [
      "Training error = 0.06769999999999998\n",
      "Test error = 0.13029999999999997\n"
     ]
    }
   ],
   "source": [
    "# Define the clasifier\n",
    "clf_tfidf = LogisticRegression()\n",
    "# Train the model\n",
    "clf_tfidf.fit(X_train, Y_train)\n",
    "# Compute error on training data.\n",
    "print(\"Training error =\", zero_one_loss(Y_train, clf_tfidf.predict(X_train)))\n",
    "# Compute error on test data\n",
    "print(\"Test error =\", zero_one_loss(Y_test, clf_tfidf.predict(X_test)))"
   ]
  },
  {
   "cell_type": "markdown",
   "metadata": {},
   "source": [
    "#### Σύγκριση αποτελεσμάτων:\n",
    "Παρατηρούμε ότι το test error μειώνεται κατά 1% περίπου όταν χρησιμοποιούμε βάρη TF-IDF για την αναπαράσταση μιας πρότασης. Το αποτέλεσμα αυτό ήταν αναμενόμενο γιατί όπως ειπώθηκε στο α) η αναπαράσταση αυτή καλύπτει κάποια κενά που είχε η μη σταθμισμένη BOW αναπαράσταση. "
   ]
  },
  {
   "cell_type": "markdown",
   "metadata": {},
   "source": [
    "### Βήμα 18: Χρήση Word2Vec αναπαραστάσεων για ταξινόμηση"
   ]
  },
  {
   "cell_type": "markdown",
   "metadata": {},
   "source": [
    "Ένας άλλος τρόπος για να αναπαραστήσουμε λέξεις και προτάσεις είναι να κάνουμε χρήση προεκπαιδευμένων embeddings. Σε αυτό το βήμα θα εστιάσουμε στα word2vec embeddings. Αυτά τα embeddings προκύπτουν από ένα νευρωνικό δίκτυο με ένα layer το οποίο καλείται να προβλέψει μια λέξη με βάση το context της (παράθυρο 3-5 λέξεων γύρω από αυτή). Αυτό ονομάζεται CBOW μοντέλο. Εναλλακτικά το δίκτυο καλείται να προβλέψει το context με βάση τη λέξη (skip-gram μοντέλο). Τα word2vec vectors είναι πυκνές (dense) αναπαραστάσεις σε λιγότερες διαστάσεις από τις BOW και κωδικοποιούν σημασιολογικά χαρακτηριστικά μιας λέξης με βάση την υπόθεση ότι λέξεις με παρόμοιο νόημα εμφανίζονται σε παρόμοια συγκείμενα (contexts). Μια πρόταση μπορεί να αναπαρασταθεί ως ο μέσος όρος των w2v διανυσμάτων κάθε λέξης που περιέχει (Neural Bag of Words)."
   ]
  },
  {
   "cell_type": "markdown",
   "metadata": {},
   "source": [
    "Αρχικά θα επαναλάβουμε τα βήματα 9α, 9β της προπαρασκευής γιατί θα μας χρειαστούν για τα δύο πρώτα ερωτήματα."
   ]
  },
  {
   "cell_type": "markdown",
   "metadata": {},
   "source": [
    "- Διαβάζουμε το βιβλίο War of the Worlds που είχαμε κατεβάσει για το μέρος Α σε μία λίστα από tokenized προτάσεις."
   ]
  },
  {
   "cell_type": "code",
   "execution_count": 57,
   "metadata": {},
   "outputs": [],
   "source": [
    "import nltk\n",
    "\n",
    "# We split the corpus in a list of tokenized sentences.\n",
    "file_path = \"War.txt\"\n",
    "tokenized_sentences = []\n",
    "with open(file_path, \"r\") as f:\n",
    "    text = f.read()\n",
    "    sentences = nltk.sent_tokenize(text)\n",
    "    tokenized_sentences = [preproc_tok(sentence) for sentence in sentences]"
   ]
  },
  {
   "cell_type": "markdown",
   "metadata": {},
   "source": [
    "- Xρησιμοποιούμε την κλάση Word2Vec του gensim για να εκπαιδεύσουμε 100-διάστατα word2vec embeddings με βάση τις παραπάνω προτάσεις. Θα χρησιμοποιήσουμε window = 5 και 1000 εποχές."
   ]
  },
  {
   "cell_type": "code",
   "execution_count": 58,
   "metadata": {},
   "outputs": [
    {
     "data": {
      "text/plain": [
       "(38051911, 67791000)"
      ]
     },
     "execution_count": 58,
     "metadata": {},
     "output_type": "execute_result"
    }
   ],
   "source": [
    "from gensim.models import Word2Vec\n",
    "\n",
    "# Initialize word2vec. Context is taken as the 2 previous and 2 next words\n",
    "myModel = Word2Vec(tokenized_sentences, window=5, size=100, workers=4)\n",
    "# Train the model for 1000 epochs\n",
    "myModel.train(tokenized_sentences, total_examples=len(tokenized_sentences), epochs=1000)"
   ]
  },
  {
   "cell_type": "markdown",
   "metadata": {},
   "source": [
    "Η μεταβλητή __voc__ κρατάει το λεξικό μας ενώ η __dim__ το μέγεθος του κάθε embedding."
   ]
  },
  {
   "cell_type": "code",
   "execution_count": 59,
   "metadata": {},
   "outputs": [],
   "source": [
    "# get ordered vocabulary list\n",
    "voc = myModel.wv.index2word\n",
    "# get vector size\n",
    "dim = myModel.vector_size"
   ]
  },
  {
   "cell_type": "markdown",
   "metadata": {},
   "source": [
    "Η συνάρτηση __to_embeddings_Matrix__ δέχεται ως όρισμα το μοντέλο μας και επιστρέφει έναν 2-διάστατο πίνακα όπου κάθε γραμμή αναπαριστάσει ένα embedding και ένα λεξικό."
   ]
  },
  {
   "cell_type": "code",
   "execution_count": 60,
   "metadata": {},
   "outputs": [],
   "source": [
    "# Convert to numpy 2d array (n_vocab x vector_size)\n",
    "def to_embeddings_Matrix(model):  \n",
    "    embedding_matrix = np.zeros((len(model.wv.vocab), model.vector_size))\n",
    "    for i in range(len(model.wv.vocab)):\n",
    "        embedding_matrix[i] = model.wv[model.wv.index2word[i]]\n",
    "    return embedding_matrix, model.wv.index2word"
   ]
  },
  {
   "cell_type": "markdown",
   "metadata": {},
   "source": [
    "__α)__ Σε αυτό το βήμα πρέπει να υπολογίσουμε το ποσοστό __out of vocabulary (OOV) words__ για τις παραπάνω αναπαραστάσεις. "
   ]
  },
  {
   "cell_type": "code",
   "execution_count": 61,
   "metadata": {},
   "outputs": [
    {
     "name": "stdout",
     "output_type": "stream",
     "text": [
      "Out of vocabulary words: 87.76961731735601%\n"
     ]
    }
   ],
   "source": [
    "tokens = get_tokens(\"War.txt\")\n",
    "oov = (1 - len(voc)/len(tokens)) * 100\n",
    "print(\"Out of vocabulary words: \" + str(oov) + \"%\")"
   ]
  },
  {
   "cell_type": "markdown",
   "metadata": {},
   "source": [
    "__β)__ Τώρα χρησιμποιώντας αυτές τις αναπαραστάσεις θα κατασκευάσουμε ένα __Neural Bag of Words αναπαραστάσεων__ για κάθε σχόλιο στο corpus και θα εκπαιδεύσουμε ένα Logistic Regression μοντέλο για ταξινόμηση."
   ]
  },
  {
   "cell_type": "markdown",
   "metadata": {},
   "source": [
    "Αρχικά, αποθηκεύουμε τo training και το test set σε raw text μορφή."
   ]
  },
  {
   "cell_type": "code",
   "execution_count": 62,
   "metadata": {},
   "outputs": [],
   "source": [
    "X_train_raw, Y_train = create_corpus(read_samples(pos_train_dir), read_samples(neg_train_dir))\n",
    "X_test_raw, Y_test = create_corpus(read_samples(pos_test_dir), read_samples(neg_test_dir))"
   ]
  },
  {
   "cell_type": "markdown",
   "metadata": {},
   "source": [
    "Στη συνέχεια, για κάθε κριτική υπολογίζουμε το neural bag of words, που ορίζεται ως ο μέσος όρος των w2v διανυσμάτων κάθε λέξης που περιέχει."
   ]
  },
  {
   "cell_type": "code",
   "execution_count": 63,
   "metadata": {},
   "outputs": [],
   "source": [
    "# Initialize training set\n",
    "X_train = np.zeros((len(X_train_raw), 100))\n",
    "for row, sample in enumerate(X_train_raw):\n",
    "    words_included = 0\n",
    "    # Tokenize current review\n",
    "    sample_toks = preproc_tok(sample)\n",
    "    for tok in sample_toks:\n",
    "        # For each token check if it has a w2v representation\n",
    "        # and if yes add it.\n",
    "        if tok in myModel.wv:\n",
    "            X_train[row] += myModel.wv[tok]\n",
    "            words_included += 1\n",
    "    # Get the mean value\n",
    "    X_train[row] = X_train[row]/words_included"
   ]
  },
  {
   "cell_type": "code",
   "execution_count": 64,
   "metadata": {},
   "outputs": [],
   "source": [
    "# Initialize test set\n",
    "X_test = np.zeros((len(X_test_raw), 100))\n",
    "for row, sample in enumerate(X_test_raw):\n",
    "    words_included = 0\n",
    "    # Tokenize current review\n",
    "    sample_toks = preproc_tok(sample)\n",
    "    for tok in sample_toks:\n",
    "        # For each token check if it has a w2v representation\n",
    "        # and if yes add it.\n",
    "        if tok in myModel.wv:\n",
    "            X_test[row] += myModel.wv[tok]\n",
    "            words_included += 1\n",
    "    # Get the mean value\n",
    "    X_test[row] = X_test[row]/words_included"
   ]
  },
  {
   "cell_type": "code",
   "execution_count": 65,
   "metadata": {},
   "outputs": [
    {
     "data": {
      "text/plain": [
       "LogisticRegression(C=1.0, class_weight=None, dual=False, fit_intercept=True,\n",
       "          intercept_scaling=1, max_iter=100, multi_class='ovr', n_jobs=1,\n",
       "          penalty='l2', random_state=None, solver='liblinear', tol=0.0001,\n",
       "          verbose=0, warm_start=False)"
      ]
     },
     "execution_count": 65,
     "metadata": {},
     "output_type": "execute_result"
    }
   ],
   "source": [
    "# Define the clasifier\n",
    "clf = LogisticRegression()\n",
    "# Train the model\n",
    "clf.fit(X_train, Y_train)"
   ]
  },
  {
   "cell_type": "code",
   "execution_count": 66,
   "metadata": {},
   "outputs": [
    {
     "name": "stdout",
     "output_type": "stream",
     "text": [
      "Training error = 0.29869999999999997\n",
      "Test error = 0.31020000000000003\n"
     ]
    }
   ],
   "source": [
    "# Compute error on training data.\n",
    "print(\"Training error =\", zero_one_loss(Y_train, clf.predict(X_train)))\n",
    "# Compute error on test data\n",
    "print(\"Test error =\", zero_one_loss(Y_test, clf.predict(X_test)))"
   ]
  },
  {
   "cell_type": "markdown",
   "metadata": {},
   "source": [
    "Και τα δύο error είναι πάρα πολύ υψηλά με αποτέλεσμα το μοντέλο μας να έχει πάρα πολύ χαμηλή απόδοση. Η εξήγηση για αυτό είναι ότι έχουμε κατασκευάσει τα word embeddings με βάση ένα πάρα πολύ μικρό corpus το οποίο και έχει μικρό λεξικό (με αποτέλεσμα πολλές λέξεις να μην έχουν αναπαράσταση) και δεν βοηθάει στο να δημιουργηθούν παρόμοιες αναπαραστάσεις για κοντινά σημασιολογικά λέξεις (αυτό το παρατηρήσαμε και στην προπαρασκευή όταν είδαμε τις κοντινές σημασιολογικά λέξεις 10 τυχαίων λέξεν)."
   ]
  },
  {
   "cell_type": "markdown",
   "metadata": {},
   "source": [
    " __γ, δ)__ Κατεβάζουμε το προεκπαιδευμένα GoogleNews vectors, τα φορτώνουμε με το gensim και εξάγουμε αναπαραστάσεις με βάση αυτά."
   ]
  },
  {
   "cell_type": "code",
   "execution_count": 67,
   "metadata": {},
   "outputs": [],
   "source": [
    "from gensim.models import KeyedVectors\n",
    "googleModel = KeyedVectors.load_word2vec_format('./GoogleNews-vectors-negative300.bin',binary=True, limit=NUM_W2V_TO_LOAD)"
   ]
  },
  {
   "cell_type": "markdown",
   "metadata": {},
   "source": [
    "Επαναλαμβάνουμε το ερώτημα 9γ της προπαρασκευής για να το συγκρίνουμε με τα GoogleNews. "
   ]
  },
  {
   "cell_type": "code",
   "execution_count": 68,
   "metadata": {},
   "outputs": [],
   "source": [
    "selected_words = random.sample(voc, 10)"
   ]
  },
  {
   "cell_type": "code",
   "execution_count": 69,
   "metadata": {},
   "outputs": [
    {
     "name": "stdout",
     "output_type": "stream",
     "text": [
      "\"time\" is similar with the following words:\n",
      "\"accident\" with similarity 0.31924140453338623\n",
      "\"peeping\" with similarity 0.31787705421447754\n",
      "\"moment\" with similarity 0.31652188301086426\n",
      "\"scullery\" with similarity 0.29275768995285034\n",
      "\"present\" with similarity 0.28516554832458496\n",
      "\n",
      "\"then\" is similar with the following words:\n",
      "\"horsell\" with similarity 0.32005876302719116\n",
      "\"tentacle\" with similarity 0.3066787123680115\n",
      "\"giant\" with similarity 0.3036178648471832\n",
      "\"crawl\" with similarity 0.2901047468185425\n",
      "\"flash\" with similarity 0.2731703519821167\n",
      "\n",
      "\"its\" is similar with the following words:\n",
      "\"the\" with similarity 0.30903488397598267\n",
      "\"their\" with similarity 0.2941668629646301\n",
      "\"second\" with similarity 0.2774374485015869\n",
      "\"this\" with similarity 0.27605944871902466\n",
      "\"either\" with similarity 0.2701634168624878\n",
      "\n",
      "\"present\" is similar with the following words:\n",
      "\"colour\" with similarity 0.37693917751312256\n",
      "\"case\" with similarity 0.3364993929862976\n",
      "\"west\" with similarity 0.3166576325893402\n",
      "\"save\" with similarity 0.3117063045501709\n",
      "\"breakfast\" with similarity 0.29197782278060913\n",
      "\n",
      "\"ebooks\" is similar with the following words:\n",
      "\"compliance\" with similarity 0.43131911754608154\n",
      "\"donations\" with similarity 0.414086252450943\n",
      "\"need\" with similarity 0.35882318019866943\n",
      "\"provide\" with similarity 0.3455030918121338\n",
      "\"tax\" with similarity 0.3290943205356598\n",
      "\n",
      "\"for\" is similar with the following words:\n",
      "\"in\" with similarity 0.3097183406352997\n",
      "\"at\" with similarity 0.29435425996780396\n",
      "\"inside\" with similarity 0.28847604990005493\n",
      "\"believed\" with similarity 0.27060794830322266\n",
      "\"wore\" with similarity 0.2629154920578003\n",
      "\n",
      "\"access\" is similar with the following words:\n",
      "\"copies\" with similarity 0.48078101873397827\n",
      "\"provide\" with similarity 0.4457222521305084\n",
      "\"terms\" with similarity 0.4244672656059265\n",
      "\"including\" with similarity 0.40740668773651123\n",
      "\"tax\" with similarity 0.3961053192615509\n",
      "\n",
      "\"amazed\" is similar with the following words:\n",
      "\"described\" with similarity 0.33953946828842163\n",
      "\"destroyed\" with similarity 0.32326051592826843\n",
      "\"afraid\" with similarity 0.32131844758987427\n",
      "\"crying\" with similarity 0.3090144991874695\n",
      "\"shops\" with similarity 0.30001363158226013\n",
      "\n",
      "\"growing\" is similar with the following words:\n",
      "\"arrival\" with similarity 0.3098529577255249\n",
      "\"occurred\" with similarity 0.29953521490097046\n",
      "\"shadows\" with similarity 0.29747432470321655\n",
      "\"twelve\" with similarity 0.28868645429611206\n",
      "\"hills\" with similarity 0.286307156085968\n",
      "\n",
      "\"immediate\" is similar with the following words:\n",
      "\"steady\" with similarity 0.38116908073425293\n",
      "\"knees\" with similarity 0.3379053771495819\n",
      "\"neighbour\" with similarity 0.31149351596832275\n",
      "\"unseen\" with similarity 0.3104346990585327\n",
      "\"donate\" with similarity 0.29230639338493347\n",
      "\n"
     ]
    },
    {
     "name": "stderr",
     "output_type": "stream",
     "text": [
      "/home/panos/anaconda3/lib/python3.6/site-packages/gensim/matutils.py:737: FutureWarning: Conversion of the second argument of issubdtype from `int` to `np.signedinteger` is deprecated. In future, it will be treated as `np.int64 == np.dtype(int).type`.\n",
      "  if np.issubdtype(vec.dtype, np.int):\n"
     ]
    }
   ],
   "source": [
    "for word in selected_words:\n",
    "    # get most similar words\n",
    "    sim = myModel.wv.most_similar(word, topn=5)\n",
    "    print('\"' + word + '\"' + \" is similar with the following words:\")\n",
    "    for s in sim:\n",
    "        print('\"' + s[0] + '\"' + \" with similarity \" + str(s[1]))\n",
    "    print()"
   ]
  },
  {
   "cell_type": "code",
   "execution_count": 70,
   "metadata": {},
   "outputs": [
    {
     "name": "stderr",
     "output_type": "stream",
     "text": [
      "/home/panos/anaconda3/lib/python3.6/site-packages/gensim/matutils.py:737: FutureWarning: Conversion of the second argument of issubdtype from `int` to `np.signedinteger` is deprecated. In future, it will be treated as `np.int64 == np.dtype(int).type`.\n",
      "  if np.issubdtype(vec.dtype, np.int):\n"
     ]
    },
    {
     "name": "stdout",
     "output_type": "stream",
     "text": [
      "\"time\" is similar with the following words:\n",
      "\"day\" with similarity 0.5129189491271973\n",
      "\"moment\" with similarity 0.5121498107910156\n",
      "\"days\" with similarity 0.49261194467544556\n",
      "\"period\" with similarity 0.4703790545463562\n",
      "\"periods\" with similarity 0.45989587903022766\n",
      "\n",
      "\"then\" is similar with the following words:\n",
      "\"when\" with similarity 0.6513508558273315\n",
      "\"eventually\" with similarity 0.6271405220031738\n",
      "\"Then\" with similarity 0.6202642321586609\n",
      "\"once\" with similarity 0.6024324893951416\n",
      "\"promptly\" with similarity 0.6000134348869324\n",
      "\n",
      "\"its\" is similar with the following words:\n",
      "\"itself\" with similarity 0.5577900409698486\n",
      "\"Its\" with similarity 0.5130837559700012\n",
      "\"ofits\" with similarity 0.5109784603118896\n",
      "\"their\" with similarity 0.5065243244171143\n",
      "\"the\" with similarity 0.460594117641449\n",
      "\n",
      "\"present\" is similar with the following words:\n",
      "\"presented\" with similarity 0.6287577152252197\n",
      "\"presenting\" with similarity 0.6107956767082214\n",
      "\"presents\" with similarity 0.5281757116317749\n",
      "\"Present\" with similarity 0.508791446685791\n",
      "\"Presenting\" with similarity 0.46008825302124023\n",
      "\n",
      "\"ebooks\" is similar with the following words:\n",
      "\"eBooks\" with similarity 0.8122050762176514\n",
      "\"ebook\" with similarity 0.7770928144454956\n",
      "\"eBook\" with similarity 0.7062991857528687\n",
      "\"Ebooks\" with similarity 0.6969907283782959\n",
      "\"Apple_iBookstore\" with similarity 0.6550118923187256\n",
      "\n",
      "\"for\" is similar with the following words:\n",
      "\"forthe\" with similarity 0.5829182863235474\n",
      "\"give\" with similarity 0.46039873361587524\n",
      "\"in\" with similarity 0.4566476047039032\n",
      "\"For\" with similarity 0.45207786560058594\n",
      "\"fοr\" with similarity 0.44774284958839417\n",
      "\n",
      "\"access\" is similar with the following words:\n",
      "\"unfettered_access\" with similarity 0.6482528448104858\n",
      "\"acess\" with similarity 0.6429142951965332\n",
      "\"accessing\" with similarity 0.5908015966415405\n",
      "\"acces\" with similarity 0.5777570009231567\n",
      "\"Access\" with similarity 0.5571447610855103\n",
      "\n",
      "\"amazed\" is similar with the following words:\n",
      "\"astounded\" with similarity 0.8685510158538818\n",
      "\"astonished\" with similarity 0.8023055791854858\n",
      "\"pleasantly_surprised\" with similarity 0.7203282117843628\n",
      "\"surprised\" with similarity 0.7181203365325928\n",
      "\"flabbergasted\" with similarity 0.701617419719696\n",
      "\n",
      "\"growing\" is similar with the following words:\n",
      "\"grown\" with similarity 0.6805572509765625\n",
      "\"burgeoning\" with similarity 0.677505373954773\n",
      "\"grow\" with similarity 0.6641595959663391\n",
      "\"rapidly_expanding\" with similarity 0.66228848695755\n",
      "\"increasing\" with similarity 0.6527025699615479\n",
      "\n",
      "\"immediate\" is similar with the following words:\n",
      "\"Immediate\" with similarity 0.5115225911140442\n",
      "\"immediately\" with similarity 0.4955478310585022\n",
      "\"instant\" with similarity 0.49321016669273376\n",
      "\"definite\" with similarity 0.48145997524261475\n",
      "\"imminent\" with similarity 0.4812883734703064\n",
      "\n"
     ]
    }
   ],
   "source": [
    "for word in selected_words:\n",
    "    # get most similar words\n",
    "    sim = googleModel.most_similar(word, topn=5)\n",
    "    print('\"' + word + '\"' + \" is similar with the following words:\")\n",
    "    for s in sim:\n",
    "        print('\"' + s[0] + '\"' + \" with similarity \" + str(s[1]))\n",
    "    print()"
   ]
  },
  {
   "cell_type": "markdown",
   "metadata": {},
   "source": [
    "Αυτό που παρατηρούμε είναι ότι προφανώς με τα Google Vectors τα αποτελέσματα είναι εντυπωσικά αφού όλες οι κοντινές λέξεις είναι και στην πραγματικότητα πολύ κοντινές. Από την άλλη, το δικό μας μοντέλο έχει πολύ χαμηλές επιδόσεις που οφείλεται στο γεγονός ότι τα embeddings προέκυψαν από πολύ μικρό corpus. Τα Google Vectors από την άλλη έχουν ένα τεράστιο corpus από πίσω με αποτέλεσμα και να έχει τεράστιο λεξικό αλλά και οι σημασιολογικά κοντινές λέξεις να έχει και παρόμοια αναπαράσταση."
   ]
  },
  {
   "cell_type": "markdown",
   "metadata": {},
   "source": [
    "__ε)__ Αντίστοιχα με το myModel τώρα θα εκπαιδεύσουμε ένα Logistic Regression ταξινομητή με το μοντέλο που προέκυψε από τα Google Vectors."
   ]
  },
  {
   "cell_type": "code",
   "execution_count": 71,
   "metadata": {},
   "outputs": [],
   "source": [
    "# Initialize training set\n",
    "X_train = np.zeros((len(X_train_raw), 300))\n",
    "for row, sample in enumerate(X_train_raw):\n",
    "    words_included = 0\n",
    "    # Tokenize current review\n",
    "    sample_toks = preproc_tok(sample)\n",
    "    for tok in sample_toks:\n",
    "        # For each token check if it has a w2v representation\n",
    "        # and if yes add it.\n",
    "        if tok in googleModel:\n",
    "            X_train[row] += googleModel[tok]\n",
    "            words_included += 1\n",
    "    # Get the mean value\n",
    "    X_train[row] = X_train[row]/words_included"
   ]
  },
  {
   "cell_type": "code",
   "execution_count": 72,
   "metadata": {},
   "outputs": [],
   "source": [
    "# Initialize test set\n",
    "X_test = np.zeros((len(X_test_raw), 300))\n",
    "for row, sample in enumerate(X_test_raw):\n",
    "    words_included = 0\n",
    "    # Tokenize current review\n",
    "    sample_toks = preproc_tok(sample)\n",
    "    for tok in sample_toks:\n",
    "        # For each token check if it has a w2v representation\n",
    "        # and if yes add it.\n",
    "        if tok in googleModel:\n",
    "            X_test[row] += googleModel[tok]\n",
    "            words_included += 1\n",
    "    # Get the mean value\n",
    "    X_test[row] = X_test[row]/words_included"
   ]
  },
  {
   "cell_type": "code",
   "execution_count": 73,
   "metadata": {},
   "outputs": [
    {
     "data": {
      "text/plain": [
       "LogisticRegression(C=1.0, class_weight=None, dual=False, fit_intercept=True,\n",
       "          intercept_scaling=1, max_iter=100, multi_class='ovr', n_jobs=1,\n",
       "          penalty='l2', random_state=None, solver='liblinear', tol=0.0001,\n",
       "          verbose=0, warm_start=False)"
      ]
     },
     "execution_count": 73,
     "metadata": {},
     "output_type": "execute_result"
    }
   ],
   "source": [
    "# Define the clasifier\n",
    "clf = LogisticRegression()\n",
    "# Train the model\n",
    "clf.fit(X_train, Y_train)"
   ]
  },
  {
   "cell_type": "code",
   "execution_count": 74,
   "metadata": {},
   "outputs": [
    {
     "name": "stdout",
     "output_type": "stream",
     "text": [
      "Training error = 0.15490000000000004\n",
      "Test error = 0.1642\n"
     ]
    }
   ],
   "source": [
    "# Compute error on training data.\n",
    "print(\"Training error =\", zero_one_loss(Y_train, clf.predict(X_train)))\n",
    "# Compute error on test data\n",
    "print(\"Test error =\", zero_one_loss(Y_test, clf.predict(X_test)))"
   ]
  },
  {
   "cell_type": "markdown",
   "metadata": {},
   "source": [
    "Όπως ήταν αναμενόμενο το error μειώθηκε κατά πολύ καθώς τώρα τα embeddings ήταν καλύτερα. Σε σύγκριση με το TF_IDF το error εδώ είναι λίγο μεγαλύτερο αλλά κερδίζουμε πολύ σε χώρο και χρόνο καθώς οι πίνακες με τα training και test data είναι πολύ πιο μικροί και πυκνοί."
   ]
  },
  {
   "cell_type": "markdown",
   "metadata": {},
   "source": [
    "__στ)__ Τώρα θα δημιουργήσουμε αναπαραστάσεις των κριτικών με χρήση σταθμισμένου μέσου των w2v\n",
    "αναπαραστάσεων των λέξεων. Ως βάρη θα χρησιμοποιήσουμε τα TF-IDF βάρη των λέξεων."
   ]
  },
  {
   "cell_type": "code",
   "execution_count": 77,
   "metadata": {},
   "outputs": [],
   "source": [
    "# Get the vocabulary of the words in the training set \n",
    "# that contains their tf-idf value.\n",
    "tfidf_vectorizer = TfidfVectorizer(analyzer = preproc_tok)\n",
    "X_train_temp = tfidf_vectorizer.fit_transform(X_train_raw)\n",
    "voc = tfidf_vectorizer.vocabulary_\n",
    "# Do the same as before but now, we multiply each represantation by a the tf-idf of the word.\n",
    "# Initialize training set\n",
    "X_train = np.zeros((len(X_train_raw), 300))\n",
    "for row, sample in enumerate(X_train_raw):\n",
    "    # Tokenize current review\n",
    "    sample_toks = preproc_tok(sample)\n",
    "    for tok in sample_toks:\n",
    "        # For each token check if it has a w2v representation\n",
    "        # and if yes add it.\n",
    "        if tok in googleModel and tok in voc:\n",
    "            X_train[row] += googleModel[tok] * X_train_temp[row,voc[tok]]"
   ]
  },
  {
   "cell_type": "code",
   "execution_count": 79,
   "metadata": {},
   "outputs": [],
   "source": [
    "# Get the vocabulary of the words in the training set \n",
    "# that contains their tf-idf value.\n",
    "tfidf_vectorizer = TfidfVectorizer(analyzer = preproc_tok)\n",
    "X_test_temp = tfidf_vectorizer.fit_transform(X_test_raw)\n",
    "voc = tfidf_vectorizer.vocabulary_\n",
    "# Do the same as before but now, we multiply each represantation by a the tf-idf of the word.\n",
    "# Initialize test set\n",
    "X_test = np.zeros((len(X_test_raw), 300))\n",
    "for row, sample in enumerate(X_test_raw):\n",
    "    # Tokenize current review\n",
    "    sample_toks = preproc_tok(sample)\n",
    "    for tok in sample_toks:\n",
    "        # For each token check if it has a w2v representation\n",
    "        # and if yes add it.\n",
    "        if tok in googleModel and tok in voc:\n",
    "            X_test[row] += googleModel[tok] * X_test_temp[row,voc[tok]]"
   ]
  },
  {
   "cell_type": "markdown",
   "metadata": {},
   "source": [
    "__ζ)__ Επαναλαμβάνουμε την ταξινόμηση με τις νέες αναπαραστάσεις."
   ]
  },
  {
   "cell_type": "code",
   "execution_count": 80,
   "metadata": {},
   "outputs": [
    {
     "name": "stdout",
     "output_type": "stream",
     "text": [
      "Training error = 0.16669999999999996\n",
      "Test error = 0.19510000000000005\n"
     ]
    }
   ],
   "source": [
    "# Define the clasifier\n",
    "clf = LogisticRegression()\n",
    "# Train the model\n",
    "clf.fit(X_train, Y_train)\n",
    "# Compute error on training data.\n",
    "print(\"Training error =\", zero_one_loss(Y_train, clf.predict(X_train)))\n",
    "# Compute error on test data\n",
    "print(\"Test error =\", zero_one_loss(Y_test, clf.predict(X_test)))"
   ]
  }
 ],
 "metadata": {
  "kernelspec": {
   "display_name": "Python 3",
   "language": "python",
   "name": "python3"
  },
  "language_info": {
   "codemirror_mode": {
    "name": "ipython",
    "version": 3
   },
   "file_extension": ".py",
   "mimetype": "text/x-python",
   "name": "python",
   "nbconvert_exporter": "python",
   "pygments_lexer": "ipython3",
   "version": "3.6.5"
  },
  "toc": {
   "base_numbering": 1,
   "nav_menu": {},
   "number_sections": false,
   "sideBar": true,
   "skip_h1_title": true,
   "title_cell": "Table of Contents",
   "title_sidebar": "Contents",
   "toc_cell": false,
   "toc_position": {},
   "toc_section_display": true,
   "toc_window_display": false
  }
 },
 "nbformat": 4,
 "nbformat_minor": 2
}
