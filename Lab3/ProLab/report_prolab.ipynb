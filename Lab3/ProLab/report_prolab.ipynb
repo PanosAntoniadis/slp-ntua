{
 "cells": [
  {
   "cell_type": "markdown",
   "metadata": {},
   "source": [
    "<center><h1> Προπαρασκευή 3ου εργαστηρίου</h1></center>"
   ]
  },
  {
   "cell_type": "markdown",
   "metadata": {},
   "source": [
    "Επειδή ο κώδικας ήταν οργανωμένος σε συγκεκριμένα αρχεία και η εκτελεσή του δεν γινόταν μέσω jupyter notebook στη αναφορά δεν περιέχεται ο περισσότερος κώδικας που συμπληρώθηκε. Η αναφορά στοχεύει στην εξήγηση του, την παρουσίαση των αποτελεσμάτων και στην απάντηση των ζητούμενων ερωτήσεων. "
   ]
  },
  {
   "cell_type": "markdown",
   "metadata": {},
   "source": [
    "<center> <h2> Εισαγωγή </h2></center>\n",
    "\n",
    "Σκοπός της προπαρασκευής είναι η υλοποίηση ενός μοντέλου για την επεξεργασία και κατηγοριοποίηση κειμένων, με την χρήση βαθιών νευρωνικών δικτύων (Deep Neural Networks - DNN). Για την ανάπτυξη των μοντέλων χρησιμοποιήθηκε η βιβλιοθήκη PyTorch. Αρχικά, χρησιμοποιώντας προ-εκπαιδευμένες\n",
    "διανυσματικές αναπαραστάσεις λέξεων (pretrained word embeddings), θα δημιουργήσουμε\n",
    "αναπαραστάσεις για κάθε κείμενο. Στη συνέχεια, θα χρησιμοποιήσουμε τις αναπαραστάσεις των\n",
    "κειμένων, ώστε να κάνουμε την κατηγοριοποίηση. Στόχος είναι να εκπαιδεύσουμε μοντέλα, τα οποία\n",
    "θα μπορούν να κάνουν ανάλυση συναισθήματος (sentiment analysis) σε προτάσεις. Μας παρέχονται\n",
    "2 σύνολα δεδομένων .\n",
    "- Sentence Polarity Dataset 2 [Pang and Lee, 2005]. To dataset αυτό περιέχει 5331 θετικές\n",
    "και 5331 αρνητικές κριτικές ταινιών, από το Rotten Tomatoes και είναι binary-classification\n",
    "πρόβλημα (positive, negative).\n",
    "- Semeval 2017 Task4-A 3 [Rosenthal et al., 2017]. To dataset αυτό περιέχει tweets τα οποία\n",
    "είναι κατηγοριοποιημένα σε 3 κλάσεις (positive, negative, neutral) με 49570 παραδείγματα\n",
    "εκπαίδευσης και 12284 παραδείγματα αξιολόγησης."
   ]
  },
  {
   "cell_type": "markdown",
   "metadata": {},
   "source": [
    "<center><h2> Επιλογή pretrained word embeddings </h2></center>"
   ]
  },
  {
   "cell_type": "markdown",
   "metadata": {},
   "source": [
    "Για την συγκεκριμένη άσκηση θα χρησιμοποιηθούν τα παρακάτω embeddings:\n",
    "- Glove embeddings το οποίο περιέχει ακόμα και 50-διάστατα embeddings έχοντας έτσι λιγότερες υπολογιστικές απαιτήσεις.\n",
    "- FastText embeddings τα οποία όμως είναι διαθέσιμα μόνο σε 300 διαστάσεις."
   ]
  },
  {
   "cell_type": "markdown",
   "metadata": {},
   "source": [
    "Σε όλη την παρακάτω ανάλυση χρησιμοποιήθηκαν τα glove embeddings των 50 διαστάσεων. Στο τέλος θα παρουσιαστεί η επίδοση του μοντέλου και σε άλλα embeddings. "
   ]
  },
  {
   "cell_type": "markdown",
   "metadata": {},
   "source": [
    "<center><h2> 1. Προεπεξεργασία Δεδομένων </h2></center>"
   ]
  },
  {
   "cell_type": "markdown",
   "metadata": {},
   "source": [
    "Για την προεπεξεργασία των δεδομένων μας θα κληρονομήσουμε τις κλάσεις __torch.utils.data.Dataset__ και __torch.utils.data.Dataloader__ του pytorch. Συγκεκριμένα, η πρώτη μετατρέπει κάθε παράδειγμα στην μορφή που απαιτείται για την εκπαίδευση του νερωνικού δικτύου ενώ η δεύτερη χρησιμοποιώντας ένα στιγμιότυπο της κλάσης Dataset μετατρέπει τα παραδείγματα σε torch Tensors και τα οργανώνει σε mini-batches."
   ]
  },
  {
   "cell_type": "markdown",
   "metadata": {},
   "source": [
    "### 1.1 Κωδικοποίηση επισημειώσεων (Labels)"
   ]
  },
  {
   "cell_type": "markdown",
   "metadata": {},
   "source": [
    "Σε αυτό το στάδιο θα μετατρέψουμε τα labels από κείμενα (positive, neutral, negative για το Semeval2017A dataset και positive, negative για το MR dataset) σε αριθμούς ώστε να μπορούν να εισαχθούν μετά στο νευρωνικό δίκτυο. Η μετατροπή αυτή γίνεται χρησιμοποιώντας το LabelEncoder του sklearn όπως φαίνεται και παρακάτω σε μία τυχαία λίστα από labels."
   ]
  },
  {
   "cell_type": "code",
   "execution_count": 1,
   "metadata": {},
   "outputs": [
    {
     "name": "stdout",
     "output_type": "stream",
     "text": [
      "['positive' 'negative' 'negative' 'negative' 'positive' 'positive'\n",
      " 'negative' 'positive' 'negative' 'negative']\n",
      "[1 0 0 0 1 1 0 1 0 0]\n",
      "2\n"
     ]
    }
   ],
   "source": [
    "from numpy.random import choice\n",
    "from sklearn.preprocessing import LabelEncoder\n",
    "\n",
    "# Generate 10 random labels. \n",
    "labels = choice(['positive', 'negative'], 10)\n",
    "print(labels)\n",
    "# Create a new label encoder.\n",
    "le = LabelEncoder()\n",
    "# Encode labels\n",
    "encoded_labels = le.fit_transform(labels) \n",
    "print(encoded_labels)\n",
    "# compute number of classes made by the encoder\n",
    "n_classes = le.classes_.size\n",
    "print(n_classes)"
   ]
  },
  {
   "cell_type": "markdown",
   "metadata": {},
   "source": [
    "Παρακάτω βλέπουμε τα πρώτα 10 labels από τα δεδομένα εκπαίδευσης και την αντιστοιχία τους σε αριθμούς για το MR dataset."
   ]
  },
  {
   "cell_type": "markdown",
   "metadata": {},
   "source": [
    "<img src=\"photos/EX1_MR.png\">"
   ]
  },
  {
   "cell_type": "markdown",
   "metadata": {},
   "source": [
    "Παρακάτω βλέπουμε τα πρώτα 10 labels από τα δεδομένα εκπαίδευσης και την αντιστοιχία τους σε αριθμούς για το Semevel2017A dataset."
   ]
  },
  {
   "cell_type": "markdown",
   "metadata": {},
   "source": [
    "<img src=\"photos/EX1_Sem.png\">"
   ]
  },
  {
   "cell_type": "markdown",
   "metadata": {},
   "source": [
    "### 1.2 Λεκτική Ανάλυση (Tokenization)"
   ]
  },
  {
   "cell_type": "markdown",
   "metadata": {},
   "source": [
    "Στη συνέχεια πρέπει να μετατρέψουμε τα δεδομένα μας από κείμενα σε ακολουθίες από tokens. Αυτό θα συμβεί στην αρχικοποίηση της κλάσης __SentenceDataset__ η οποία κληρονομεί την κλάση torch.utils.data.Dataset. Ανάλογα με τις ιδιαιτερότητες του dataset μας μπορούμε να χρησιμοποιήσουμε διαφορετικούς tokenizers. Για το MR dataset που δεν είναι σε τόσο \"κακή\" μορφή τα κείμενα (σε σχέση με τα tweets) μπορούμε να κάνουμε κάποιο απλό tokenize χωρίς την χρήση κάποιας βιβλιοθήκης. Αντίθετα, για το Semeval 2017A dataset που περιέχει tweets θα χρησιμοποιήσουμε τον TweetTokenizer του nltk. Παρακάτω φαίνεται η χρήση τους στην πρώτη πρόταση από κάθε dataset."
   ]
  },
  {
   "cell_type": "markdown",
   "metadata": {},
   "source": [
    "- #### Sentence Polarity dataset"
   ]
  },
  {
   "cell_type": "code",
   "execution_count": 2,
   "metadata": {},
   "outputs": [
    {
     "name": "stdout",
     "output_type": "stream",
     "text": [
      "['gorgeously', 'elaborate', 'continuation', 'lord', 'rings', 'trilogy', 'huge', 'column', 'words', 'cannot', 'adequately', 'describe', 'cowriterdirector', 'peter', 'jacksons', 'expanded', 'vision', 'tolkiens', 'middleearth']\n"
     ]
    }
   ],
   "source": [
    "import string\n",
    "from nltk.corpus import stopwords\n",
    "# sample review\n",
    "text = \"the gorgeously elaborate continuation of ' the lord of the rings ' trilogy is so huge that a column of words cannot adequately describe co-writer/director peter jackson's expanded vision of j . r . r . tolkien's middle-earth\"\n",
    "# split into tokens by white space\n",
    "tokens = text.split()\n",
    "# remove punctuation from each token\n",
    "table = str.maketrans('', '', string.punctuation)\n",
    "tokens = [w.translate(table) for w in tokens]\n",
    "# remove remaining tokens that are not alphabetic\n",
    "tokens = [word for word in tokens if word.isalpha()]\n",
    "# filter out stop words\n",
    "stop_words = set(stopwords.words('english'))\n",
    "tokens = [w for w in tokens if not w in stop_words]\n",
    "# filter out short tokens\n",
    "tokens = [word for word in tokens if len(word) > 1]\n",
    "print(tokens)"
   ]
  },
  {
   "cell_type": "markdown",
   "metadata": {},
   "source": [
    "- #### Semeval 2017A dataset"
   ]
  },
  {
   "cell_type": "code",
   "execution_count": 3,
   "metadata": {},
   "outputs": [
    {
     "name": "stdout",
     "output_type": "stream",
     "text": [
      "['ang', 'sarap', 'mging', 'panganay', '.', 'Pag', 'ikaw', 'may', 'kylngan', 'wala', 'kang', 'matakbuhan', '.', ':D', '101', '#realtalk', '#grind', '#onyourown']\n"
     ]
    }
   ],
   "source": [
    "from nltk.tokenize import TweetTokenizer\n",
    "# sample tweet\n",
    "text = \"ang sarap mging panganay. Pag ikaw may kylngan wala kang matakbuhan.:D 101 #realtalk #grind #onyourown\"\n",
    "tweetToken = TweetTokenizer()\n",
    "tokens = tweetToken.tokenize(text)\n",
    "print(tokens)"
   ]
  },
  {
   "cell_type": "markdown",
   "metadata": {},
   "source": [
    "Παρακάτω βλέπουμε τα πρώτα 10 tokenized παραδείγματα από τα δεδομένα εκπαίδευσης για το MR dataset."
   ]
  },
  {
   "cell_type": "markdown",
   "metadata": {},
   "source": [
    "<img src=\"photos/EX2_MR.png\">"
   ]
  },
  {
   "cell_type": "markdown",
   "metadata": {},
   "source": [
    "Παρακάτω βλέπουμε τα πρώτα 10 tokenized παραδείγματα από τα δεδομένα εκπαίδευσης για το Semeval2017A dataset."
   ]
  },
  {
   "cell_type": "markdown",
   "metadata": {},
   "source": [
    "<img src=\"photos/EX2_Sem.png\">"
   ]
  },
  {
   "cell_type": "markdown",
   "metadata": {},
   "source": [
    "### 1.3 Κωδικοποίηση Παραδειγμάτων (Λέξεων)"
   ]
  },
  {
   "cell_type": "markdown",
   "metadata": {},
   "source": [
    "Τώρα πρέπει να υλοποιήσουμε την μέθοδο \\__getitem__ της παραπάνω κλάσης η οποία δέχεται ένα index και επιστρέφει τα εξής:\n",
    "- την κωδικοποιημένη μορφή μίας πρότασης (αντιστοίχηση token στο id του embedding)\n",
    "- το id της επισημείωσης \n",
    "- το πραγματικό μήκος της πρότασης (δηλαδή εξαιρουμένων των μηδενικών στοιχείων)\n",
    "Αρχικά, επειδή πρέπει όλα τα παραδείγματα να έχουν ίδιο μήκος πρέπει να βρούμε ένα κατάλληλο μήκος που να καλύπτει την πλειοψηφία των προτάσεων, αγνοώντας τους outliers. Παρακάτω βλέπουμε το scatterplot του μεγέθους όλων των προτάσεων."
   ]
  },
  {
   "cell_type": "code",
   "execution_count": 10,
   "metadata": {},
   "outputs": [
    {
     "name": "stdout",
     "output_type": "stream",
     "text": [
      "loading word embeddings...\n",
      "Loaded word embeddings from cache.\n"
     ]
    },
    {
     "data": {
      "image/png": "[encoded data removed]",
      "text/plain": [
       "<Figure size 432x288 with 1 Axes>"
      ]
     },
     "metadata": {
      "needs_background": "light"
     },
     "output_type": "display_data"
    }
   ],
   "source": [
    "%run bestLength.py MR"
   ]
  },
  {
   "cell_type": "code",
   "execution_count": 5,
   "metadata": {},
   "outputs": [
    {
     "name": "stdout",
     "output_type": "stream",
     "text": [
      "loading word embeddings...\n",
      "Loaded word embeddings from cache.\n"
     ]
    },
    {
     "data": {
      "image/png": "[encoded data removed]",
      "text/plain": [
       "<Figure size 432x288 with 1 Axes>"
      ]
     },
     "metadata": {
      "needs_background": "light"
     },
     "output_type": "display_data"
    }
   ],
   "source": [
    "%run bestLength.py Semeval2017A"
   ]
  },
  {
   "cell_type": "markdown",
   "metadata": {},
   "source": [
    "Μπορούμε για να ελέγξουμε ότι ο κώδικας είναι σωστός για ένα ενδεικτικό word2idx."
   ]
  },
  {
   "cell_type": "code",
   "execution_count": 6,
   "metadata": {},
   "outputs": [
    {
     "name": "stdout",
     "output_type": "stream",
     "text": [
      "[3. 5. 2. 1. 0. 0. 0. 0.]\n",
      "1\n",
      "6\n"
     ]
    }
   ],
   "source": [
    "import numpy as np\n",
    "# A sample word2idx.\n",
    "word2idx = {'I':3, 'love':5, 'hate':4, 'this':2, 'movie':1, 'cat':6, '<unk>':0}\n",
    "# A sample tokenized text\n",
    "text = ['I', 'love', 'this', 'movie', 'a', 'lot']\n",
    "# Length that should match\n",
    "bestLength = 8\n",
    "# Initialize the ndarray that will contain the encoded form of a sentence.\n",
    "example = np.zeros(bestLength)\n",
    "for i in range(min(bestLength, len(text))):\n",
    "    if text[i] in word2idx:\n",
    "        example[i] = word2idx[text[i]]\n",
    "    else:\n",
    "        example[i] = word2idx[\"<unk>\"]\n",
    "label = 1\n",
    "length = len(text)\n",
    "# print the results\n",
    "print(example)\n",
    "print(label)\n",
    "print(length)"
   ]
  },
  {
   "cell_type": "markdown",
   "metadata": {},
   "source": [
    "Παρατηρήσαμε στο scatterplot ότι ένα καλό μέγεθος είναι το 50 για το MR dataset και το 40 για το Semeval2017A dataset. Αφού υλοποιήσουμε λοιπόν την ζητούμενη μέθοδο (αναλυτικά σχόλια υπάρχουν στον κώδικα) όπως παραπάνω βλέπουμε παρακάτω 5 παραδέιγματα στην αρχική τους μορφή και όπως τα επιστρέφει η κλάση SentenceDataset για κάθε ένα dataset."
   ]
  },
  {
   "cell_type": "markdown",
   "metadata": {},
   "source": [
    "- __MR dataset__"
   ]
  },
  {
   "cell_type": "markdown",
   "metadata": {},
   "source": [
    "<img src=\"photos/EX3_1_MR.png\">"
   ]
  },
  {
   "cell_type": "markdown",
   "metadata": {},
   "source": [
    "<img src=\"photos/EX3_2_MR\n",
    ".png\">"
   ]
  },
  {
   "cell_type": "markdown",
   "metadata": {},
   "source": [
    "<img src=\"photos/EX3_3_MR.png\">"
   ]
  },
  {
   "cell_type": "markdown",
   "metadata": {},
   "source": [
    "<img src=\"photos/EX3_4_MR.png\">"
   ]
  },
  {
   "cell_type": "markdown",
   "metadata": {},
   "source": [
    "<img src=\"photos/EX3_5_MR.png\">"
   ]
  },
  {
   "cell_type": "markdown",
   "metadata": {},
   "source": [
    "- __Semeval 2017A dataset__"
   ]
  },
  {
   "cell_type": "markdown",
   "metadata": {},
   "source": [
    "<img src=\"photos/EX3_1_Sem.png\">"
   ]
  },
  {
   "cell_type": "markdown",
   "metadata": {},
   "source": [
    "<img src=\"photos/EX3_2_Sem.png\">"
   ]
  },
  {
   "cell_type": "markdown",
   "metadata": {},
   "source": [
    "<img src=\"photos/EX3_3_Sem.png\">"
   ]
  },
  {
   "cell_type": "markdown",
   "metadata": {},
   "source": [
    "<img src=\"photos/EX3_4_Sem.png\">"
   ]
  },
  {
   "cell_type": "markdown",
   "metadata": {},
   "source": [
    "<img src=\"photos/EX3_5_Sem.png\">"
   ]
  },
  {
   "cell_type": "markdown",
   "metadata": {},
   "source": [
    "<center><h2> 2. Μοντέλο </h2></center>"
   ]
  },
  {
   "cell_type": "markdown",
   "metadata": {},
   "source": [
    "Σε αυτό το βήμα θα σχεδιάσουμε ένα νευρωνικό δίκτυο, το οποίο:\n",
    "- Θα δημιουργεί μία συνεχή διανυσματική αναπαράσταση για κάθε όρο σε μία πρόταση με την χρήση ενός Embedding layer,\n",
    "- Θα δημιουργεί μία διανυσματική αναπαράσταση για όλο το κείμενο ενός παραδείγματος,\n",
    "- Θα κατηγοριοποιεί το κείμενο βάση της αναπαράστασης του στην σωστή κλάση."
   ]
  },
  {
   "cell_type": "markdown",
   "metadata": {},
   "source": [
    "Ο πηγαίος κώδικας του μοντέλου βρίσκεται στο αρχείο models.py. Στη μέθοδο init θα δηλώσουμε τα layers του δικτύου και θα αρχικοποιήσουμε τα βάρη τους. Στη μέθοδο forward θα ορίσουμε τους μετασχηματισμούς των δεδομένων εισόδου για την παραγωγή της τελικής εξόδου του μοντέλου (forward pass)."
   ]
  },
  {
   "cell_type": "markdown",
   "metadata": {},
   "source": [
    "### 2.1 Embedding Layer"
   ]
  },
  {
   "cell_type": "markdown",
   "metadata": {},
   "source": [
    "Στο στάδιο αυτό θα δημιουργήσουμε το embedding layer το οποίο παίρνει κάθε όρο/λέξη το προβάλλει σε ένα συνεχή χώρο (embedding space) στον οποίο βρίσκονται κοντά οι νοηματικά κοντινές λέξεις.Τα βάρη του embedding layer μπορούμε να τα αρχικοποιήσουμε με τυχαίες τιμές και να τα ενημερώσουμε κατά την εκπαίδευση του μοντέλου ή να τα αρχικοποιήσουμε από προ-εκπαιδευμένα word embeddings. Εμείς θα κάνουμε το δεύτερο χρησιμοποιώντας τα embeddings που βρίσκονται στον φάκελο /embeddings και συγκεκριμένα τα 50-dimensional Glove embeddings."
   ]
  },
  {
   "cell_type": "markdown",
   "metadata": {},
   "source": [
    "Ελέγχουμε παρακάτω τον κώδικα για την δημιουργία του embedding layer."
   ]
  },
  {
   "cell_type": "code",
   "execution_count": 7,
   "metadata": {},
   "outputs": [
    {
     "name": "stdout",
     "output_type": "stream",
     "text": [
      "Embeddings shape is:  (4, 5)\n",
      "Embedding array is:  [[0 1 2 3 4]\n",
      " [0 2 4 6 8]\n",
      " [1 3 5 7 9]\n",
      " [4 3 2 1 0]]\n",
      "Input batch shape is:  torch.Size([2, 6])\n",
      "Input batch is:  tensor([[3, 0, 0, 1, 2, 1],\n",
      "        [0, 1, 2, 3, 1, 0]])\n",
      "Output of embedding layer has shape:  torch.Size([2, 6, 5])\n",
      "Output of embedding layer is:  tensor([[[4., 3., 2., 1., 0.],\n",
      "         [0., 1., 2., 3., 4.],\n",
      "         [0., 1., 2., 3., 4.],\n",
      "         [0., 2., 4., 6., 8.],\n",
      "         [1., 3., 5., 7., 9.],\n",
      "         [0., 2., 4., 6., 8.]],\n",
      "\n",
      "        [[0., 1., 2., 3., 4.],\n",
      "         [0., 2., 4., 6., 8.],\n",
      "         [1., 3., 5., 7., 9.],\n",
      "         [4., 3., 2., 1., 0.],\n",
      "         [0., 2., 4., 6., 8.],\n",
      "         [0., 1., 2., 3., 4.]]])\n"
     ]
    }
   ],
   "source": [
    "# ----------------------- #\n",
    "# Embedding layer testing #\n",
    "# ----------------------- #\n",
    "import torch\n",
    "import torch.nn as nn\n",
    "max_length = 6\n",
    "n_embeddings = 4\n",
    "embedding_size = 5\n",
    "# Define a sample embedding array \n",
    "embeddings = np.array([[0, 1, 2, 3, 4],[0, 2, 4, 6, 8], [1, 3, 5, 7, 9], [4, 3, 2, 1, 0]])\n",
    "print(\"Embeddings shape is: \", embeddings.shape)\n",
    "print(\"Embedding array is: \", embeddings)\n",
    "# Define a embedding layer\n",
    "embed = nn.Embedding(num_embeddings = n_embeddings, embedding_dim = embedding_size)\n",
    "# Initialize the weights of the embedding layer with embeddings array.\n",
    "embed.load_state_dict({'weight': torch.from_numpy(embeddings)})\n",
    "# Make embedding layer non-trainable\n",
    "embed.weight.requires_grad = False\n",
    "# create batch with some data\n",
    "x = torch.from_numpy(np.array([[3, 0, 0, 1, 2, 1], [0, 1, 2, 3, 1, 0]])).long()\n",
    "print(\"Input batch shape is: \", x.shape)\n",
    "print(\"Input batch is: \", x)\n",
    "# pass it through the embedding layer\n",
    "embeddings = embed(x)\n",
    "print(\"Output of embedding layer has shape: \", embeddings.shape)\n",
    "print(\"Output of embedding layer is: \", embeddings)"
   ]
  },
  {
   "cell_type": "markdown",
   "metadata": {},
   "source": [
    "#### Ερώτηση 1: Γιατί αρχικοποιούμε το embedding layer με τα προ-εκπαιδευμένα word embeddings?"
   ]
  },
  {
   "cell_type": "markdown",
   "metadata": {},
   "source": [
    "Αυτό συμβαίνει διότι θέλουμε από την αρχή τα embeddings να μην είναι τυχαία. Έτσι, διευκολύνουμε το νευρωνικό μας\n",
    "στο να συγκλίνει κάπου και κάνουμε την εκπαίδευση πιο γρήγορη. Αν αρχικοποιούσαμε το embedding layer με τυχαίες τιμές και το αφήναμε να εκπαιδευτεί κατα το training τότε θα ηταν πολύ πιο δύσκολο για το νευρωνικό να βρει ένα μοτίβο σε αυτά τα unstructered δεδομένα που θα αναπαρηστούν τις λέξεις εντελώς τυχαία στο χώρο. Τα προ-εκπαιδευμένα embeddings τώρα επειδή αναπαριστούν τις λέξεις σε ένα χώρο όπου η σημασιολογικά κοντά λέξεις είναι και κοντά σε αυτό το χώρο (από πλευρά απόστασης) δίνουν στο νευρωνικά πιο δομημένα τα δεδομένα και την πληροφορία ώστε αυτό να εκπαιδευτεί ευκολότερα σε αυτά και να συγκλίνει κάπου."
   ]
  },
  {
   "cell_type": "markdown",
   "metadata": {},
   "source": [
    "#### Ερώτηση 2: Γιατί κρατάμε παγωμένα τα βάρη του embedding layer κατά την εκπαίδευση?"
   ]
  },
  {
   "cell_type": "markdown",
   "metadata": {},
   "source": [
    "Κατά την εκπαίδευση κρατάμε παγωμένα τα βάρη του embedding layer για τους εξής δύο λόγους:\n",
    "- Για να αποφύγουμε το overfitting το οποίο είναι πολύ πιθανό να συμβεί αν εκτός από το νευρωνικό είχαμε και τις\n",
    "αναπαραστάσεις που μπαίνουν σε αυτό να εκπαιδεύονται πάνω στο training set μας. Αυτό θα εμποδίσει τον αλγόριθμο στο να γενικεύσει και θα καταλήξουμε με ένα μοντέλο που απλά έχει μάθει πάρα πολύ καλά τα δεδομένα που του δώσαμε.\n",
    "- Για να μειώσουμε τις συνολικές παραμέτρους του μοντέλου μας κερδίζοντας έτσι σε υπολογιστική πολυπλοκότητα.\n"
   ]
  },
  {
   "cell_type": "markdown",
   "metadata": {},
   "source": [
    "### 2.2 Output Layer(s)"
   ]
  },
  {
   "cell_type": "markdown",
   "metadata": {},
   "source": [
    "Στη συνέχεια, πρέπει να θα πρέπει να προβάλουμε τις αναπαραστάσεις των κειμένων στο χώρο των κλάσεων. Αυτό θα συμβεί σε δύο στάδια. Αρχικά, θα έχουμε ένα layer με μία μη γραμμική συνάρτηση ενεργοποίησης (relu) και στη συνέχεια θα έχουμε το τελευταίο layer το οποίο θα προβάλει τις τελικές αναπαραστάσεις στον χώρο των κλάσεων."
   ]
  },
  {
   "cell_type": "code",
   "execution_count": 8,
   "metadata": {},
   "outputs": [
    {
     "name": "stdout",
     "output_type": "stream",
     "text": [
      "torch.Size([16, 3])\n"
     ]
    }
   ],
   "source": [
    "import torch\n",
    "import torch.nn as nn\n",
    "# 2dim tensor.. aka a matrix\n",
    "batch_size = 16\n",
    "feature_size = 5\n",
    "x = torch.randn(batch_size, feature_size)\n",
    "# now let's try out some NN layer\n",
    "output_size = 3\n",
    "fc = nn.Linear(feature_size, output_size)\n",
    "print(fc(x).shape)"
   ]
  },
  {
   "cell_type": "markdown",
   "metadata": {},
   "source": [
    "#### Ερώτηση 3: Γιατί βάζουμε μία μη γραμμική συνάρτηση ενεργοποίησης στο προτελευταίο layer? Τι διαφορά θα είχε αν είχαμε 2 ή περισσότερους γραμμικούς μετασχηματισμούς στη σειρά?"
   ]
  },
  {
   "cell_type": "markdown",
   "metadata": {},
   "source": [
    "Η εισαγωγή μιας μη γραμμικής συνάρτησης ενεργοποιήσης στο προτελευταίο layer γίνεται ώστε να εισάγουμε την μη\n",
    "γραμμικότητα στο μοντέλο και να του δώσουμε την δυνατότητα να κατασκευάζει και μη γραμμικές συναρτήσεις για να\n",
    "περιγράψει την είσοδο. Αν απλά είχαμε 2 ή περισσότερους γραμμικούς μετασχηματισμούς στη σειρά τότε αυτό θα ισοδυναμούσε με ένα απλό perceptron αφού το γινόμενο γραμμικών συναρτήσεων κάνει γραμμική συνάρτηση. Το μοντέλο μας λοιπόν θα προσπαθούσε να περιγράψει την είσοδό του χρησιμοποιώντας μόνο γραμμικές συναρτήσεις (όπως σε ένα απλό logistic regression μοντέλο) και έτσι θα καταλήγαμε με ένα πολύ φτωχό μοντέλο."
   ]
  },
  {
   "cell_type": "markdown",
   "metadata": {},
   "source": [
    "### 2.3 Forward pass"
   ]
  },
  {
   "cell_type": "markdown",
   "metadata": {},
   "source": [
    "Στο σημείο αυτό θα κάνουμε το forward propagation, δηλαδή θα σχεδιάσουμε τον τρόπο με τον οποίο το μοντέλο μας\n",
    "θα μετασχηματίζει μία είσοδο που του δίνουμε στην αντίστοιχη έξοδο. Η είσοδος στο μοντέλο θα είναι ένα mini-batch\n",
    "με διαστάσεις (batch_size, max_length). Η έξοδος θα προκύπτει ως εξής:\n",
    "- Αρχικά, περνάμε τiς λέξεις κάθε πρότασης από το embedding layer ώστε να αντιστοιχηθεί κάθε όρος σε ένα διάνυσμα. \n",
    "- Μετά, πρέπει να δημιουργήσουμε από τις επιμέρους αναπαραστάσεις των όρων μία ενιαία για κάθε πρόταση. Αυτό θα γίνει υπολογίζοντας των μέσο όρων των embeddings σε μία πρόταση.\n",
    "- Το επόμενο βήμα είναι να εφαρμόσουμε τον μη γραμμικό μετασχηματισμό μας στην παραπάνω αναπαράσταση.\n",
    "- Τέλος, προβάλλουμε την τελική αναπαράσταση στον χώρο των κλάσεων."
   ]
  },
  {
   "cell_type": "markdown",
   "metadata": {},
   "source": [
    "Επειδή όλα τα παραπάνω είναι αρκετές λειτουργίες εφαρμόζουμε όλα τα παραπάνω για ένα δικό μας μικρό mini-batch λέξεων όπως φαίνεται παρακάτω. Ένας αντίστοιχος κώδικας συμπληρώθηκε και στο αρχείο models.py"
   ]
  },
  {
   "cell_type": "code",
   "execution_count": 9,
   "metadata": {},
   "outputs": [
    {
     "name": "stdout",
     "output_type": "stream",
     "text": [
      "INPUTS\n",
      "Input batch shape is:  torch.Size([2, 6])\n",
      "Input batch is:  tensor([[3, 0, 0, 1, 2, 1],\n",
      "        [0, 1, 2, 3, 1, 0]])\n",
      "Input lengths array is:  [5 3]\n",
      "STEP 1\n",
      "Output of embedding layer has shape:  torch.Size([2, 6, 5])\n",
      "Output of embedding layer is:  tensor([[[4., 3., 2., 1., 0.],\n",
      "         [0., 1., 2., 3., 4.],\n",
      "         [0., 1., 2., 3., 4.],\n",
      "         [0., 2., 4., 6., 8.],\n",
      "         [1., 3., 5., 7., 9.],\n",
      "         [0., 2., 4., 6., 8.]],\n",
      "\n",
      "        [[0., 1., 2., 3., 4.],\n",
      "         [0., 2., 4., 6., 8.],\n",
      "         [1., 3., 5., 7., 9.],\n",
      "         [4., 3., 2., 1., 0.],\n",
      "         [0., 2., 4., 6., 8.],\n",
      "         [0., 1., 2., 3., 4.]]])\n",
      "Step 2\n",
      "Representation of sentences have shape:  torch.Size([2, 5])\n",
      "Representation of sentences:  tensor([[ 1.0000,  2.4000,  3.8000,  5.2000,  6.6000],\n",
      "        [ 1.6667,  4.0000,  6.3333,  8.6667, 11.0000]])\n",
      "Step 3\n",
      "Output of layer 1 have shape:  torch.Size([2, 8])\n",
      "Output of layer 1:  tensor([[2.4996, 0.7802, 2.0321, 0.0000, 0.0000, 3.7189, 1.2986, 0.0000],\n",
      "        [4.2346, 1.0812, 3.1754, 0.0000, 0.0000, 6.2130, 2.2439, 0.0000]],\n",
      "       grad_fn=<ThresholdBackward0>)\n",
      "Step 4\n",
      "Output have shape:  torch.Size([2, 3])\n",
      "Output:  tensor([[ 0.4678, -0.3922,  0.4258],\n",
      "        [ 0.6168, -0.5789,  0.3995]], grad_fn=<AddmmBackward>)\n"
     ]
    }
   ],
   "source": [
    "# -------------------- #\n",
    "# Forward pass testing #\n",
    "# -------------------- #\n",
    "import torch\n",
    "import torch.nn as nn\n",
    "# Lengths definitions\n",
    "max_length = 6\n",
    "n_embeddings = 4\n",
    "batch_size = 2\n",
    "embeddings_size = 5\n",
    "hidden_size = 8\n",
    "\n",
    "# Create batch with some data\n",
    "x = torch.from_numpy(np.array([[3, 0, 0, 1, 2, 1], [0, 1, 2, 3, 1, 0]])).long()\n",
    "# Create the lengths array\n",
    "lengths = np.array([5, 3])\n",
    "print(\"INPUTS\")\n",
    "print(\"Input batch shape is: \", x.shape)\n",
    "print(\"Input batch is: \", x)\n",
    "print(\"Input lengths array is: \", lengths)\n",
    "\n",
    "# 1. pass it through the embedding layer that we created in the 'Embedding layer' section.\n",
    "embeddings = embed(x)\n",
    "print(\"STEP 1\")\n",
    "print(\"Output of embedding layer has shape: \", embeddings.shape)\n",
    "print(\"Output of embedding layer is: \", embeddings)\n",
    "\n",
    "# 2. Create a representiation for each sentence by computing the mean of the word embeddings in each .\n",
    "representations = torch.zeros([batch_size, embeddings_size])\n",
    "for i in range(batch_size):\n",
    "    representations[i] = torch.sum(embeddings[i], dim=0) / lengths[i]\n",
    "print(\"Step 2\")\n",
    "print(\"Representation of sentences have shape: \", representations.shape)\n",
    "print(\"Representation of sentences: \", representations)\n",
    "\n",
    "# 3. Pass it through non linear transformation\n",
    "linear1 = nn.Linear(embedding_size, hidden_size)\n",
    "relu = nn.ReLU()\n",
    "representations =  relu(linear1(representations))\n",
    "print(\"Step 3\")\n",
    "print(\"Output of layer 1 have shape: \", representations.shape)\n",
    "print(\"Output of layer 1: \", representations)\n",
    "# 4 - Project the representations to classes using a linear layer\n",
    "linear2 = nn.Linear(hidden_size, output_size)\n",
    "logits = linear2(representations)\n",
    "print(\"Step 4\")\n",
    "print(\"Output have shape: \", logits.shape)\n",
    "print(\"Output: \", logits)"
   ]
  },
  {
   "cell_type": "markdown",
   "metadata": {},
   "source": [
    "#### Ερώτηση 4: Αν θεωρήσουμε ότι κάθε διάσταση του embedding χώρου αντιστοιχεί σε μία αφηρημένη έννοια, μπορείτε να δώσετε μία διαισθητική ερμηνεία για το τι περιγράφει η αναπαράσταση που φτιάξατε (κέντρο-βάρους)."
   ]
  },
  {
   "cell_type": "markdown",
   "metadata": {},
   "source": [
    "Στο μοντέλο μας η αναπαράσταση μίας πρότασης προέκυψε ως το κέντρο βάρους των embeddings των λέξεων που την απαρτίζουν. Συνεπώς, η τιμή σε κάθε διάσταση της τελικής αναπαράστασης αποτελεί τον μέρο όρο των τιμών των λέξεων σε αυτή στη διάσταση. Αυτό σημαίνει, ότι αναπαράσταση μας εκφράζει μία έννοια όταν οι λέξεις που την απαρτίζουν εκφράζουν επίσης αυτήν την έννοια και αντίστοιχα δεν εκφράζει μία έννοια όταν οι λέξεις που την απαρτίζουν δεν την εκφράζουν και αυτές. Αυτό είναι σωστό προφανώς ότι δηλαδή το νόημα μιας πρότασης προκύπτει άμεσα από το νόημα των λέξεων που την απαρτίζουν, ωστόσο η αναπαράσταση αυτή δεν λαμβάνει υπόψιν της τα συντακτικά χαρακτηριστικά."
   ]
  },
  {
   "cell_type": "markdown",
   "metadata": {},
   "source": [
    "#### Ερώτηση 5: Αναφέρετε πιθανές αδυναμίες της συγκεκριμένης προσέγγισης για να αναπαραστήσουμε κείμενα. "
   ]
  },
  {
   "cell_type": "markdown",
   "metadata": {},
   "source": [
    "Η κύρια αδυναμία της συγκεκριμένης προσέγγισης είναι ότι αγνοούμε τελείως την σειρά με την οποία έρχονται οι λέξεις και απλά τις αντιμετωπίζουμε ως μέρος της πρότασης είτε βρίσκονται στην αρχή, είτε στη μέση, είτε στο τέλος. Αυτό είναι μεγάλη αδυναμία γιατί τα συντακτικά χαρακτηριστικά μιας πρότασης πολλές φορές επηρεάζουν την\n",
    "σημασία της.\n"
   ]
  },
  {
   "cell_type": "markdown",
   "metadata": {},
   "source": [
    "<center><h2> 3. Διαδικασία Εκπαίδευσης </h2></center>"
   ]
  },
  {
   "cell_type": "markdown",
   "metadata": {},
   "source": [
    "Σε αυτό το βήμα θα υλοποιήσουμε την διαδικασία εκπαίδευσης του δικτύου, όπως να οργανώσουμε τα παραδείγματα σε mini-batches και να εκτελέσουμε stochastic gradient descent για να ενημερώνουμε τα βάρη του δικτύου."
   ]
  },
  {
   "cell_type": "markdown",
   "metadata": {},
   "source": [
    "### 3.1 Φόρτωση Παραδειγμάτων (DataLoaders)"
   ]
  },
  {
   "cell_type": "markdown",
   "metadata": {},
   "source": [
    "Χρησιμοποιούμε την κλάση DataLoader η οποία μας επιτρέπει να χωρίζουμε το data set σε mini-batches και γενικά μας επιστρέπει λειτουργίες πάνω σε ένα set δεδομένων."
   ]
  },
  {
   "cell_type": "markdown",
   "metadata": {},
   "source": [
    "#### Ερώτηση 6: Τι συνέπειες έχουν τα μικρά και μεγάλα mini-batches στην εκπαίδευση των μοντέλων?"
   ]
  },
  {
   "cell_type": "markdown",
   "metadata": {},
   "source": [
    "Το μέγεθος των mini-batches επηρεάζει την εκπαίδευση των μοντέλων μας με δύο τρόπους. Αρχικά, στο SGD όταν πηγαίνουμε να υπολογίσουμε τα gradients όσο πιο μεγάλο mini-batch έχουμε τόσο πιο κοντά είμαστε στα gradients όλου του training set και δεν έχουμε εισάγει θόρυβο στο μοντέλο μας. Αυτό όμως δεν είναι συνήθως θετικό γιατί το μοντέλο με τα μεγάλα mini-batch ίσως συγκλίνει σε κάποιο τοπικό ελάχιστο το οποίο ένα αντίστοιχο μοντέλο αλλά με μικρότερα mini-batches (επειδή ακριβώς θα είχε εισάγει θόρυβο) ίσως να είχε ξεπηδήσει από αυτό και να κατέληγε στο ολικό ελάχιστο. Ακόμη, όταν έχουμε μικρά mini-batches τότε το update των βαρών κάθε φορά γίνεται πιο γρήγορα και μπορούμε να έχουμε μια πιο άμεση εικόνα για το τι συμβαίνει στο μοντέλο μας."
   ]
  },
  {
   "cell_type": "markdown",
   "metadata": {},
   "source": [
    "#### Ερώτηση 7:Συνήθως ανακατεύουμε την σειρά των mini-batches στα δεδομένα εκπαίδευσης σε κάθε εποχή.Μπορείτε να εξηγήσετε γιατί?"
   ]
  },
  {
   "cell_type": "markdown",
   "metadata": {},
   "source": [
    "Το shuffling στα δεδομένα μας μετά από κάθε εποχή γίνετια για τους εξής δύο λόγους:\n",
    "- Το μοντέλο μας έχει την δυνάτοτητα να μαθαίνει περίπλοκες μη γραμμικές συναρτήσεις της εξόδου συνάρτηση της εισόδου. Αυτό σημαίνει ότι υπάρχει περίπτωση να μάθε ακόμα και την σειρά με την οποία έρχονται τα δεδομένα σε αυτό. Όταν αυτό δεν το θέλουμε, η λύση είναι να ανακατεύουμε τα mini-batches σε κάθε εποχή έτσι ώστε κάθε φορά το νευρωνικό να τα βλέπει με διαφορετική σειρά και να μην λάβει υπόψιν τη σειρά καθώς εκπαιδεύεται.\n",
    "- Όταν αλλάζουμε συνεχώς την σειρά με την οποία έρχονται τα mini-batches αυτό μποτεί να οδηγήσει σε πιο εύκολη σύγκλιση στο ολικό ελάχιστο. Αυτό συμβαίνει διότι δίνουμε διαρκώς στο νευρωνικό διαφορετικά δεδομένα και έτσι σε περίπτωση που κολλήσει σε κάποιο τοπικό ελάχιστο κατά την εκπαίδευση είναι πολύ πιθανό να ξεκολλήσει στην επόμενη επανάληψη."
   ]
  },
  {
   "cell_type": "markdown",
   "metadata": {},
   "source": [
    "### 3.2 Βελτιστοποίηση"
   ]
  },
  {
   "cell_type": "markdown",
   "metadata": {},
   "source": [
    "Για την βελτιστοποίηση του μοντέλου μας πρέπει να ορίσουμε τα εξής:\n",
    "- Κριτήριο. Αν το πρόβλημα κατηγοριοποίησης έχει 2 κλάσεις τότε χρησιμοποιούμε το BCEWithLogitsLoss, ενώ αν έχει περισσότερες τότε χρησιμοποιούμε το CrossEntropyLoss.\n",
    "- Παράμετροι. Επιλέγουμε τις παραμέτρους οι οποίες θα βελτιστοποιηθούν οι οποίες είναι όσες έχει true στο πεδίο requires_grad ώστε να υπολογιστεί ο gradient στο backpropagation.\n",
    "- Optimizer. Επιλέγουμε τον αλγόριθμο βελτιστοποίησης Adam."
   ]
  },
  {
   "cell_type": "markdown",
   "metadata": {},
   "source": [
    "### 3.3 Εκπαίδευση"
   ]
  },
  {
   "cell_type": "markdown",
   "metadata": {},
   "source": [
    "Το τελευταίο βήμα για την εκπαίδευση του μοντέλου, είναι να υλοποιήσομυε τις μεθόδους για την εκπαίδευση και αξιολόγηση κάθε mini-batch. H συνάρτηση train dataset καλείται για κάθε batch σε μία εποχή, δίνει τα δεδομένα εκπαίδευσης στο μοντέλο, υπολογίζει το σφάλμα και ενημερώνει τα βάρη του δικτύου με τον αλγόριθμο backpropagation. Ομοίως, η συνάρτηση eval dataset καλείται στο τέλος κάθε εποχής, για να αξιολογήσει το μοντέλο. Επειδή, τα βήματα είναι πολύ συγκεκριμένα δεν χρειάζεται να ελέγξουμε όπως προηγουμένως το συγκεκριμένο βήμα οπότε ο κώδικας έχει συμπληρωθεί στο training.py με αναλυτικά σχόλια."
   ]
  },
  {
   "cell_type": "markdown",
   "metadata": {},
   "source": [
    "### 3.4 Αξιολόγηση"
   ]
  },
  {
   "cell_type": "markdown",
   "metadata": {},
   "source": [
    "Γενικά για να τρέξει κανείς το τελικό πρόγραμμα πρέπει να ακολουθήσει τα εξής βήματα:\n",
    "- Να ορίσει στα αρχεία main.py, training.py, dataloading.py πάνω σε ποιο από τα δύο dataset(μεταβλητή DATASET με επιλογές MR ή Semevel2017A) επιθυμεί να εκπαιδεύσει το μοντέλο του.\n",
    "- Να ορίσει στο αρχέιο main.py ποιό embedding επιθυμεί να χρησιμοποιήσει από τα διαθέσιμα στον φάκελο /embeddings (μεταβλητή EMBEDDINGS και EMB_DIM).\n",
    "- Να τρέξει __python main.py__. Στο stdout θα εμφανιστούν σε κάθε εποχή οι ζητούμενες μετρικές του μοντέλου και στο τέλος θα εμφανιστούν οι δύο γραφικές παραστάσεις (loss του train και του test set)."
   ]
  },
  {
   "cell_type": "markdown",
   "metadata": {},
   "source": [
    "Για τον υπολογισμό διάφορων μετρικών του μοντέλου χρησιμοποιήθηκε η βιβλιοθήκη sklearn.metrics. Παρακάτω φαίνονται τα αποτελέσματα ενώ στον κώδικα υπάρχουν αναλυτικά σχόλια. Όλα εκπαιδεύτηκαν για 50 εποχές οι οποίες προκαλούν σχεδόν πάντα overfit οπότε από το διάγραμμα κάθε φορά μπορούμε να δούμε σε ποια εποχή θα έπρεπε ίσως να έχουμε σταματήσει την εκπαίδευση."
   ]
  },
  {
   "cell_type": "markdown",
   "metadata": {},
   "source": [
    "<center><h3> Sentence Polarity Dataset (MR)</h3></center>"
   ]
  },
  {
   "cell_type": "markdown",
   "metadata": {},
   "source": [
    "- #### glove.6B.50d embeddings "
   ]
  },
  {
   "cell_type": "markdown",
   "metadata": {},
   "source": [
    "<tr>\n",
    "    <td> <img src=\"photos/results/MR/train_MR_50dGlove.png\" alt=\"Drawing\" style=\"width: \"/> </td>\n",
    "    <td> <img src=\"photos/results/MR/test_MR_50dGlove.png\" alt=\"Drawing\" style=\"width: \"/> </td>\n",
    "    </tr>"
   ]
  },
  {
   "cell_type": "markdown",
   "metadata": {},
   "source": [
    "<img src=\"photos/results/MR/out_MR_50dGlove.png\" alt=\"Drawing\" style=\"width: \"/>\n"
   ]
  },
  {
   "cell_type": "markdown",
   "metadata": {},
   "source": [
    "Παρατηρούμε ότι οι default εποχές είναι πάρα πολλές καθώς το loss του test set αρχίζει να αυξάνεται μετά από ένα σημείο γεγονός που οφείλεται στο overfit που κάνει το μοντέλο στα training δεδομένα μας (γι' αυτό και το loss του train set συνεχώς μειώνεται). Αυτό θα συμβαίνει και στα υπόλοιπα μοντέλα και από τις γραφικές καταλαβαίνουμε ότι η εκπαίδευση έπρεπε να σταματήσει σε ένα σημείο όπου το test set θα είχε σταματήσει να βελτιώνεται και απλά θα βελτιωνόταν το train set(για να αποφύγουμε το overfit)."
   ]
  },
  {
   "cell_type": "markdown",
   "metadata": {},
   "source": [
    "- #### glove.6B.300d embeddings "
   ]
  },
  {
   "cell_type": "markdown",
   "metadata": {},
   "source": [
    "<tr>\n",
    "    <td> <img src=\"photos/results/MR/train_MR_300dGlove.png\" alt=\"Drawing\" style=\"width: \"/> </td>\n",
    "    <td> <img src=\"photos/results/MR/test_MR_300dGlove.png\" alt=\"Drawing\" style=\"width: \"/> </td>\n",
    "    </tr>"
   ]
  },
  {
   "cell_type": "markdown",
   "metadata": {},
   "source": [
    "<img src=\"photos/results/MR/out_MR_300dGlove.png\" alt=\"Drawing\" style=\"width: \"/>\n"
   ]
  },
  {
   "cell_type": "markdown",
   "metadata": {},
   "source": [
    "- #### wiki-news-300d-1M embeddings"
   ]
  },
  {
   "cell_type": "markdown",
   "metadata": {},
   "source": [
    "<tr>\n",
    "    <td> <img src=\"photos/results/MR/train_MR_wiki.png\" alt=\"Drawing\" style=\"width: \"/> </td>\n",
    "    <td> <img src=\"photos/results/MR/test_MR_wiki.png\" alt=\"Drawing\" style=\"width: \"/> </td>\n",
    "    </tr>"
   ]
  },
  {
   "cell_type": "markdown",
   "metadata": {},
   "source": [
    "<img src=\"photos/results/MR/out_MR_wiki300d.png\" alt=\"Drawing\" style=\"width: \"/>\n"
   ]
  },
  {
   "cell_type": "markdown",
   "metadata": {},
   "source": [
    "<center><h3> Semeval 2017 Task4-A</h3></center>"
   ]
  },
  {
   "cell_type": "markdown",
   "metadata": {},
   "source": [
    "- #### glove.twitter.27B.25d embeddings"
   ]
  },
  {
   "cell_type": "markdown",
   "metadata": {},
   "source": [
    "<tr>\n",
    "    <td> <img src=\"photos/results/Semeval2017A/train_Sem_tweet25d.png\" alt=\"Drawing\" style=\"width: \"/> </td>\n",
    "    <td> <img src=\"photos/results/Semeval2017A/test_Sem_tweet25d.png\" alt=\"Drawing\" style=\"width: \"/> </td>\n",
    "    </tr>"
   ]
  },
  {
   "cell_type": "markdown",
   "metadata": {},
   "source": [
    "<img src=\"photos/results/Semeval2017A/out_Sem_25dTweet.png\" alt=\"Drawing\" style=\"width: \"/>\n"
   ]
  },
  {
   "cell_type": "markdown",
   "metadata": {},
   "source": [
    "- #### glove.twitter.27B.50d embeddings"
   ]
  },
  {
   "cell_type": "markdown",
   "metadata": {},
   "source": [
    "<tr>\n",
    "    <td> <img src=\"photos/results/Semeval2017A/train_Sem_tweet50d.png\" alt=\"Drawing\" style=\"width: \"/> </td>\n",
    "    <td> <img src=\"photos/results/Semeval2017A/test_Sem_tweet50d.png\" alt=\"Drawing\" style=\"width: \"/> </td>\n",
    "    </tr>"
   ]
  },
  {
   "cell_type": "markdown",
   "metadata": {},
   "source": [
    "<img src=\"photos/results/Semeval2017A/out_Sem_tweet50d.png\" alt=\"Drawing\" style=\"width: \"/>\n"
   ]
  },
  {
   "cell_type": "markdown",
   "metadata": {},
   "source": [
    "- #### glove.twitter.27B.100d embeddings"
   ]
  },
  {
   "cell_type": "markdown",
   "metadata": {},
   "source": [
    "<tr>\n",
    "    <td> <img src=\"photos/results/Semeval2017A/train_Sem_tweet100d.png\" alt=\"Drawing\" style=\"width: \"/> </td>\n",
    "    <td> <img src=\"photos/results/Semeval2017A/test_Sem_tweet100d.png\" alt=\"Drawing\" style=\"width: \"/> </td>\n",
    "    </tr>"
   ]
  },
  {
   "cell_type": "markdown",
   "metadata": {},
   "source": [
    "<img src=\"photos/results/Semeval2017A/out_Sem_100dtweet.png\" alt=\"Drawing\" style=\"width: \"/>\n"
   ]
  },
  {
   "cell_type": "markdown",
   "metadata": {},
   "source": [
    "- #### glove.twitter.27B.200d embeddings"
   ]
  },
  {
   "cell_type": "markdown",
   "metadata": {},
   "source": [
    "<tr>\n",
    "    <td> <img src=\"photos/results/Semeval2017A/train_Sem_tweet200d.png\" alt=\"Drawing\" style=\"width: \"/> </td>\n",
    "    <td> <img src=\"photos/results/Semeval2017A/test_Sem_tweet200d.png\" alt=\"Drawing\" style=\"width: \"/> </td>\n",
    "    </tr>"
   ]
  },
  {
   "cell_type": "markdown",
   "metadata": {},
   "source": [
    "<img src=\"photos/results/Semeval2017A/out_Sem_tweet200d.png\" alt=\"Drawing\" style=\"width: \"/>\n"
   ]
  },
  {
   "cell_type": "markdown",
   "metadata": {},
   "source": [
    "Σαν μια γενική παρατήρηση για τα αποτελέσματα είναι ότι όσο καλύτερα embeddings βάζαμε τόσο καλύτερο ήταν το μοντέλο μας απλά έκανε overfit πάρα πολύ γρήγορα και το test loss αυξανόταν. Στο πρώτο dataset το τελευταίο embedding έβγαλε τα καλύτερα αποτελέσματα αφού φάνηκε να μην κάνει overfit μειώνοντας παράλληλα δραματικά το train loss. Στο δεύτερο (όπου επιλέχθηκαν τα embeddings που είναι εκπαιδευμένα σε tweets) όλα τα μοντέλα μετά από την 20-30 εποχή κάνανε overfit αλλά τα αποτελέσματα (αν λάβουμε υπόψιν το απλό tokenize που κάναμε αλλά και το ότι έχουμε ένα απλό nn χωρίς εξελιγμένες τεχνικές) είναι ικανοποιητικά. "
   ]
  }
 ],
 "metadata": {
  "kernelspec": {
   "display_name": "Python 3",
   "language": "python",
   "name": "python3"
  },
  "language_info": {
   "codemirror_mode": {
    "name": "ipython",
    "version": 3
   },
   "file_extension": ".py",
   "mimetype": "text/x-python",
   "name": "python",
   "nbconvert_exporter": "python",
   "pygments_lexer": "ipython3",
   "version": "3.7.1"
  },
  "toc": {
   "base_numbering": 1,
   "nav_menu": {},
   "number_sections": false,
   "sideBar": true,
   "skip_h1_title": true,
   "title_cell": "Table of Contents",
   "title_sidebar": "Contents",
   "toc_cell": false,
   "toc_position": {},
   "toc_section_display": true,
   "toc_window_display": false
  }
 },
 "nbformat": 4,
 "nbformat_minor": 2
}
